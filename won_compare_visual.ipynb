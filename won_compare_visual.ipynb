{
 "cells": [
  {
   "cell_type": "code",
   "execution_count": 11,
   "metadata": {},
   "outputs": [],
   "source": [
    "import pandas as pd\n",
    "total = pd.read_csv('data/seoul/total.csv')"
   ]
  },
  {
   "cell_type": "code",
   "execution_count": 12,
   "metadata": {},
   "outputs": [
    {
     "data": {
      "text/html": [
       "<div>\n",
       "<style scoped>\n",
       "    .dataframe tbody tr th:only-of-type {\n",
       "        vertical-align: middle;\n",
       "    }\n",
       "\n",
       "    .dataframe tbody tr th {\n",
       "        vertical-align: top;\n",
       "    }\n",
       "\n",
       "    .dataframe thead th {\n",
       "        text-align: right;\n",
       "    }\n",
       "</style>\n",
       "<table border=\"1\" class=\"dataframe\">\n",
       "  <thead>\n",
       "    <tr style=\"text-align: right;\">\n",
       "      <th></th>\n",
       "      <th>Unnamed: 0</th>\n",
       "      <th>지역</th>\n",
       "      <th>면적</th>\n",
       "      <th>총인구</th>\n",
       "      <th>유동인구</th>\n",
       "      <th>버스</th>\n",
       "      <th>면적대비인구</th>\n",
       "      <th>면적대비버스</th>\n",
       "    </tr>\n",
       "  </thead>\n",
       "  <tbody>\n",
       "    <tr>\n",
       "      <th>0</th>\n",
       "      <td>0</td>\n",
       "      <td>서초구</td>\n",
       "      <td>47.03</td>\n",
       "      <td>429025</td>\n",
       "      <td>-6050.020926</td>\n",
       "      <td>653</td>\n",
       "      <td>9122.368701</td>\n",
       "      <td>13.884754</td>\n",
       "    </tr>\n",
       "    <tr>\n",
       "      <th>1</th>\n",
       "      <td>1</td>\n",
       "      <td>강서구</td>\n",
       "      <td>41.43</td>\n",
       "      <td>585901</td>\n",
       "      <td>-405.546032</td>\n",
       "      <td>612</td>\n",
       "      <td>14141.950278</td>\n",
       "      <td>14.771904</td>\n",
       "    </tr>\n",
       "    <tr>\n",
       "      <th>2</th>\n",
       "      <td>2</td>\n",
       "      <td>강남구</td>\n",
       "      <td>39.54</td>\n",
       "      <td>544055</td>\n",
       "      <td>-10734.758377</td>\n",
       "      <td>561</td>\n",
       "      <td>13759.610521</td>\n",
       "      <td>14.188164</td>\n",
       "    </tr>\n",
       "    <tr>\n",
       "      <th>3</th>\n",
       "      <td>3</td>\n",
       "      <td>노원구</td>\n",
       "      <td>35.42</td>\n",
       "      <td>527032</td>\n",
       "      <td>-201.722577</td>\n",
       "      <td>542</td>\n",
       "      <td>14879.503106</td>\n",
       "      <td>15.302089</td>\n",
       "    </tr>\n",
       "    <tr>\n",
       "      <th>4</th>\n",
       "      <td>4</td>\n",
       "      <td>송파구</td>\n",
       "      <td>33.88</td>\n",
       "      <td>673926</td>\n",
       "      <td>-1294.433997</td>\n",
       "      <td>438</td>\n",
       "      <td>19891.558442</td>\n",
       "      <td>12.927981</td>\n",
       "    </tr>\n",
       "  </tbody>\n",
       "</table>\n",
       "</div>"
      ],
      "text/plain": [
       "   Unnamed: 0   지역     면적     총인구          유동인구   버스        면적대비인구     면적대비버스\n",
       "0           0  서초구  47.03  429025  -6050.020926  653   9122.368701  13.884754\n",
       "1           1  강서구  41.43  585901   -405.546032  612  14141.950278  14.771904\n",
       "2           2  강남구  39.54  544055 -10734.758377  561  13759.610521  14.188164\n",
       "3           3  노원구  35.42  527032   -201.722577  542  14879.503106  15.302089\n",
       "4           4  송파구  33.88  673926  -1294.433997  438  19891.558442  12.927981"
      ]
     },
     "metadata": {},
     "output_type": "display_data"
    },
    {
     "data": {
      "text/html": [
       "<div>\n",
       "<style scoped>\n",
       "    .dataframe tbody tr th:only-of-type {\n",
       "        vertical-align: middle;\n",
       "    }\n",
       "\n",
       "    .dataframe tbody tr th {\n",
       "        vertical-align: top;\n",
       "    }\n",
       "\n",
       "    .dataframe thead th {\n",
       "        text-align: right;\n",
       "    }\n",
       "</style>\n",
       "<table border=\"1\" class=\"dataframe\">\n",
       "  <thead>\n",
       "    <tr style=\"text-align: right;\">\n",
       "      <th></th>\n",
       "      <th>지역</th>\n",
       "      <th>면적</th>\n",
       "      <th>총인구</th>\n",
       "      <th>유동인구</th>\n",
       "      <th>버스</th>\n",
       "      <th>면적대비인구</th>\n",
       "      <th>면적대비버스</th>\n",
       "    </tr>\n",
       "  </thead>\n",
       "  <tbody>\n",
       "    <tr>\n",
       "      <th>0</th>\n",
       "      <td>서초구</td>\n",
       "      <td>47.03</td>\n",
       "      <td>429025</td>\n",
       "      <td>-6050.020926</td>\n",
       "      <td>653</td>\n",
       "      <td>9122.368701</td>\n",
       "      <td>13.884754</td>\n",
       "    </tr>\n",
       "    <tr>\n",
       "      <th>1</th>\n",
       "      <td>강서구</td>\n",
       "      <td>41.43</td>\n",
       "      <td>585901</td>\n",
       "      <td>-405.546032</td>\n",
       "      <td>612</td>\n",
       "      <td>14141.950278</td>\n",
       "      <td>14.771904</td>\n",
       "    </tr>\n",
       "    <tr>\n",
       "      <th>2</th>\n",
       "      <td>강남구</td>\n",
       "      <td>39.54</td>\n",
       "      <td>544055</td>\n",
       "      <td>-10734.758377</td>\n",
       "      <td>561</td>\n",
       "      <td>13759.610521</td>\n",
       "      <td>14.188164</td>\n",
       "    </tr>\n",
       "    <tr>\n",
       "      <th>3</th>\n",
       "      <td>노원구</td>\n",
       "      <td>35.42</td>\n",
       "      <td>527032</td>\n",
       "      <td>-201.722577</td>\n",
       "      <td>542</td>\n",
       "      <td>14879.503106</td>\n",
       "      <td>15.302089</td>\n",
       "    </tr>\n",
       "    <tr>\n",
       "      <th>4</th>\n",
       "      <td>송파구</td>\n",
       "      <td>33.88</td>\n",
       "      <td>673926</td>\n",
       "      <td>-1294.433997</td>\n",
       "      <td>438</td>\n",
       "      <td>19891.558442</td>\n",
       "      <td>12.927981</td>\n",
       "    </tr>\n",
       "  </tbody>\n",
       "</table>\n",
       "</div>"
      ],
      "text/plain": [
       "    지역     면적     총인구          유동인구   버스        면적대비인구     면적대비버스\n",
       "0  서초구  47.03  429025  -6050.020926  653   9122.368701  13.884754\n",
       "1  강서구  41.43  585901   -405.546032  612  14141.950278  14.771904\n",
       "2  강남구  39.54  544055 -10734.758377  561  13759.610521  14.188164\n",
       "3  노원구  35.42  527032   -201.722577  542  14879.503106  15.302089\n",
       "4  송파구  33.88  673926  -1294.433997  438  19891.558442  12.927981"
      ]
     },
     "metadata": {},
     "output_type": "display_data"
    }
   ],
   "source": [
    "display(total.head())\n",
    "total = total.iloc[: , range(1,8)]\n",
    "display(total.head())"
   ]
  },
  {
   "cell_type": "code",
   "execution_count": 13,
   "metadata": {},
   "outputs": [
    {
     "name": "stdout",
     "output_type": "stream",
     "text": [
      "THEGaeideuk\n"
     ]
    }
   ],
   "source": [
    "from matplotlib import font_manager, rc\n",
    "font_path = \"data/THEdog.ttf\"   #폰트파일의 위치\n",
    "font_name = font_manager.FontProperties(fname=font_path).get_name()\n",
    "print(font_name)\n",
    "rc('font', family=font_name)"
   ]
  },
  {
   "cell_type": "code",
   "execution_count": 14,
   "metadata": {},
   "outputs": [
    {
     "data": {
      "image/png": "[encoded data removed]",
      "text/plain": [
       "<Figure size 720x864 with 1 Axes>"
      ]
     },
     "metadata": {
      "needs_background": "light"
     },
     "output_type": "display_data"
    }
   ],
   "source": [
    "from matplotlib import pyplot as plt\n",
    "\n",
    "plt.figure(figsize=(10,12))\n",
    "plt.subplot(1,2,1)\n",
    "plt.plot(total['지역'], total['면적대비인구'], 'go')\n",
    "plt.plot(total['지역'], total['면적대비버스'], 'bo')\n",
    "plt.show()"
   ]
  },
  {
   "cell_type": "code",
   "execution_count": 31,
   "metadata": {},
   "outputs": [],
   "source": [
    "total_1 = total.set_index('지역')"
   ]
  },
  {
   "cell_type": "code",
   "execution_count": 38,
   "metadata": {},
   "outputs": [
    {
     "name": "stdout",
     "output_type": "stream",
     "text": [
      "-10734.758377419352\n"
     ]
    },
    {
     "data": {
      "text/plain": [
       "74358.49"
      ]
     },
     "execution_count": 38,
     "metadata": {},
     "output_type": "execute_result"
    }
   ],
   "source": [
    "print(min(total_1['유동인구']))\n",
    "max(total_1['유동인구'])"
   ]
  },
  {
   "cell_type": "code",
   "execution_count": 32,
   "metadata": {},
   "outputs": [
    {
     "data": {
      "text/html": [
       "<div>\n",
       "<style scoped>\n",
       "    .dataframe tbody tr th:only-of-type {\n",
       "        vertical-align: middle;\n",
       "    }\n",
       "\n",
       "    .dataframe tbody tr th {\n",
       "        vertical-align: top;\n",
       "    }\n",
       "\n",
       "    .dataframe thead th {\n",
       "        text-align: right;\n",
       "    }\n",
       "</style>\n",
       "<table border=\"1\" class=\"dataframe\">\n",
       "  <thead>\n",
       "    <tr style=\"text-align: right;\">\n",
       "      <th></th>\n",
       "      <th>면적</th>\n",
       "      <th>총인구</th>\n",
       "      <th>유동인구</th>\n",
       "      <th>버스</th>\n",
       "      <th>면적대비인구</th>\n",
       "      <th>면적대비버스</th>\n",
       "    </tr>\n",
       "    <tr>\n",
       "      <th>지역</th>\n",
       "      <th></th>\n",
       "      <th></th>\n",
       "      <th></th>\n",
       "      <th></th>\n",
       "      <th></th>\n",
       "      <th></th>\n",
       "    </tr>\n",
       "  </thead>\n",
       "  <tbody>\n",
       "    <tr>\n",
       "      <th>동작구</th>\n",
       "      <td>16.35</td>\n",
       "      <td>401572</td>\n",
       "      <td>1245.785245</td>\n",
       "      <td>449</td>\n",
       "      <td>24560.978593</td>\n",
       "      <td>27.461774</td>\n",
       "    </tr>\n",
       "    <tr>\n",
       "      <th>동대문구</th>\n",
       "      <td>14.21</td>\n",
       "      <td>357014</td>\n",
       "      <td>1488.141616</td>\n",
       "      <td>320</td>\n",
       "      <td>25124.137931</td>\n",
       "      <td>22.519353</td>\n",
       "    </tr>\n",
       "    <tr>\n",
       "      <th>금천구</th>\n",
       "      <td>13.01</td>\n",
       "      <td>247835</td>\n",
       "      <td>2548.199913</td>\n",
       "      <td>360</td>\n",
       "      <td>19049.577248</td>\n",
       "      <td>27.671022</td>\n",
       "    </tr>\n",
       "    <tr>\n",
       "      <th>중구</th>\n",
       "      <td>9.96</td>\n",
       "      <td>134635</td>\n",
       "      <td>-5092.535752</td>\n",
       "      <td>231</td>\n",
       "      <td>13517.570281</td>\n",
       "      <td>23.192771</td>\n",
       "    </tr>\n",
       "    <tr>\n",
       "      <th>부천시</th>\n",
       "      <td>53.46</td>\n",
       "      <td>813178</td>\n",
       "      <td>74358.490000</td>\n",
       "      <td>1162</td>\n",
       "      <td>15210.961467</td>\n",
       "      <td>21.735877</td>\n",
       "    </tr>\n",
       "  </tbody>\n",
       "</table>\n",
       "</div>"
      ],
      "text/plain": [
       "         면적     총인구          유동인구    버스        면적대비인구     면적대비버스\n",
       "지역                                                              \n",
       "동작구   16.35  401572   1245.785245   449  24560.978593  27.461774\n",
       "동대문구  14.21  357014   1488.141616   320  25124.137931  22.519353\n",
       "금천구   13.01  247835   2548.199913   360  19049.577248  27.671022\n",
       "중구     9.96  134635  -5092.535752   231  13517.570281  23.192771\n",
       "부천시   53.46  813178  74358.490000  1162  15210.961467  21.735877"
      ]
     },
     "execution_count": 32,
     "metadata": {},
     "output_type": "execute_result"
    }
   ],
   "source": [
    "total_1.tail(5)"
   ]
  },
  {
   "cell_type": "code",
   "execution_count": 44,
   "metadata": {},
   "outputs": [
    {
     "data": {
      "text/plain": [
       "26"
      ]
     },
     "execution_count": 44,
     "metadata": {},
     "output_type": "execute_result"
    }
   ],
   "source": [
    "len(total)"
   ]
  },
  {
   "cell_type": "code",
   "execution_count": 48,
   "metadata": {},
   "outputs": [],
   "source": [
    "import seaborn as sns\n",
    "color = sns.color_palette('hls', 26)"
   ]
  },
  {
   "cell_type": "code",
   "execution_count": 58,
   "metadata": {},
   "outputs": [
    {
     "data": {
      "text/plain": [
       "<matplotlib.collections.LineCollection at 0x1e53b8c1850>"
      ]
     },
     "execution_count": 58,
     "metadata": {},
     "output_type": "execute_result"
    },
    {
     "data": {
      "image/png": "[encoded data removed]",
      "text/plain": [
       "<Figure size 1440x720 with 2 Axes>"
      ]
     },
     "metadata": {
      "needs_background": "light"
     },
     "output_type": "display_data"
    }
   ],
   "source": [
    "ax1 = total_1['면적대비인구'].plot(kind='bar', figsize=(20, 10), width=0.7, color = color)\n",
    "ax2 = ax1.twinx()\n",
    "ax2.plot(total_1.index, total_1.면적대비버스, ls = '', marker='o', markersize=20, \n",
    "         color='green', label='면적대비버스')\n",
    "\n",
    "ax1.set_ylim(5000, 28000)\n",
    "ax2.set_ylim(10, 36.4)\n",
    "ax1.hlines(15210, 0, 25, colors='pink', linewidth=3)\n",
    "ax2.hlines(21.7, 0, 25, colors='red', linewidth=3)"
   ]
  },
  {
   "cell_type": "code",
   "execution_count": 70,
   "metadata": {},
   "outputs": [
    {
     "data": {
      "text/plain": [
       "<matplotlib.collections.LineCollection at 0x1e53ef00730>"
      ]
     },
     "execution_count": 70,
     "metadata": {},
     "output_type": "execute_result"
    },
    {
     "data": {
      "image/png": "[encoded data removed]",
      "text/plain": [
       "<Figure size 1440x720 with 2 Axes>"
      ]
     },
     "metadata": {
      "needs_background": "light"
     },
     "output_type": "display_data"
    }
   ],
   "source": [
    "ax1 = total_1['면적대비인구'].plot(kind='bar', figsize=(20, 10), width=0.7)\n",
    "ax2 = ax1.twinx()\n",
    "ax2.plot(total_1.index, total_1.유동인구, ls = '', marker='o', markersize=20, \n",
    "         color='green', label='유동인구')\n",
    "\n",
    "ax1.set_ylim(5000, 27000)\n",
    "ax2.set_ylim(-11000, 12690)\n",
    "ax1.hlines(15210, 0, 25, colors='pink', linewidth=3)\n",
    "ax2.hlines(0, 0, 25, colors='black', linewidth=3)"
   ]
  }
 ],
 "metadata": {
  "kernelspec": {
   "display_name": "pydatavenv",
   "language": "python",
   "name": "pydatavenv"
  },
  "language_info": {
   "codemirror_mode": {
    "name": "ipython",
    "version": 3
   },
   "file_extension": ".py",
   "mimetype": "text/x-python",
   "name": "python",
   "nbconvert_exporter": "python",
   "pygments_lexer": "ipython3",
   "version": "3.8.8"
  }
 },
 "nbformat": 4,
 "nbformat_minor": 4
}
