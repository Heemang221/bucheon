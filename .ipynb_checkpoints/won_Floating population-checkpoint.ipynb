{
 "cells": [
  {
   "cell_type": "code",
   "execution_count": 2,
   "metadata": {},
   "outputs": [
    {
     "name": "stdout",
     "output_type": "stream",
     "text": [
      "끝\n",
      "끝\n",
      "끝\n",
      "끝\n"
     ]
    }
   ],
   "source": [
    "from selenium import webdriver\n",
    "from selenium.webdriver.common.keys import Keys \n",
    "from selenium.webdriver import ActionChains\n",
    "import time\n",
    "\n",
    "driver = webdriver.Chrome('C:/Temp/chromedriver')\n",
    "driver.implicitly_wait(3)\n",
    "driver.get('http://datakorea.datastore.or.kr/profile/geo/05000KR41190/')\n",
    "time.sleep(3)\n",
    "\n",
    "\n",
    "# 유동인구로 스크롤\n",
    "scr = driver.find_element_by_css_selector('section.유동인구.profile-section > article:nth-child(2) > div')\n",
    "action = ActionChains(driver)\n",
    "action.move_to_element(scr).perform()\n",
    "time.sleep(3)\n",
    "\n",
    "# 각 동을 클릭하고 reset 하기 위한 css 선택자\n",
    "maps = driver.find_elements_by_css_selector('section.유동인구.profile-section > article:nth-child(2) > div > div > svg > g.paths > path')\n",
    "reset = driver.find_element_by_css_selector('section.유동인구.profile-section > article:nth-child(2) > div > div > div.map-controls > div.zoom-reset')\n",
    "\n",
    "# 데이터를 넣을 List\n",
    "dong = []\n",
    "year = []\n",
    "total = []\n",
    "man = []\n",
    "woman = []\n",
    "age10 = []\n",
    "age20 = []\n",
    "age30 = []\n",
    "age40 = []\n",
    "age50 = []\n",
    "age60 = []\n",
    "\n",
    "# 데이터의 css 선택자\n",
    "css_year = 'section.유동인구.profile-section > article.topic > div > div > div.year-toggle > div > #d3plus_toggle_default4 > div:nth-child('\n",
    "css = '#d3plus_tooltip_id_geo_map_sidebar > div > '\n",
    "css1 = 'div.d3plus_tooltip_header > div'\n",
    "css2_1 = 'div.d3plus_tooltip_data_container > div:nth-child('\n",
    "css2_2 = ') > div.d3plus_tooltip_data_value'\n",
    "\n",
    "# 크롤링\n",
    "for j in range(4):\n",
    "    toggle_y = driver.find_element_by_css_selector(css_year + str(j + 1) + ')')\n",
    "    toggle_y.click()\n",
    "    time.sleep(1)\n",
    "    for content in maps:\n",
    "        try :\n",
    "            content.click()\n",
    "            time.sleep(1)\n",
    "            dong_text = driver.find_element_by_css_selector(css + css1)\n",
    "            dong.append(dong_text.text)\n",
    "            for i in range(10):\n",
    "                idx = i * 2 + 1\n",
    "                text = driver.find_element_by_css_selector(css + css2_1 + str(idx) + css2_2)\n",
    "                if i == 0:\n",
    "                    year.append(text.text)\n",
    "                elif i == 1:\n",
    "                    total.append(text.text)\n",
    "                elif i == 2:\n",
    "                    man.append(text.text)\n",
    "                elif i == 3:\n",
    "                    woman.append(text.text)\n",
    "                elif i == 4:\n",
    "                    age10.append(text.text)\n",
    "                elif i == 5:\n",
    "                    age20.append(text.text)\n",
    "                elif i == 6:\n",
    "                    age30.append(text.text)\n",
    "                elif i == 7:\n",
    "                    age40.append(text.text)\n",
    "                elif i == 8:\n",
    "                    age50.append(text.text)\n",
    "                else:\n",
    "                    age60.append(text.text)\n",
    "            reset.click()\n",
    "            time.sleep(1)\n",
    "        except :\n",
    "            print('끝')\n",
    "            break"
   ]
  },
  {
   "cell_type": "code",
   "execution_count": 3,
   "metadata": {},
   "outputs": [
    {
     "name": "stdout",
     "output_type": "stream",
     "text": [
      "84\n",
      "84\n"
     ]
    }
   ],
   "source": [
    "print(len(age10))\n",
    "print(len(total))"
   ]
  },
  {
   "cell_type": "code",
   "execution_count": null,
   "metadata": {},
   "outputs": [],
   "source": []
  }
 ],
 "metadata": {
  "kernelspec": {
   "display_name": "pydatavenv",
   "language": "python",
   "name": "pydatavenv"
  },
  "language_info": {
   "codemirror_mode": {
    "name": "ipython",
    "version": 3
   },
   "file_extension": ".py",
   "mimetype": "text/x-python",
   "name": "python",
   "nbconvert_exporter": "python",
   "pygments_lexer": "ipython3",
   "version": "3.8.8"
  }
 },
 "nbformat": 4,
 "nbformat_minor": 4
}
