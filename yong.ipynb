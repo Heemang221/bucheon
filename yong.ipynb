{
 "cells": [
  {
   "cell_type": "markdown",
   "metadata": {},
   "source": [
    "#### 네이버 블로그 크롤링\n",
    "- 키워드: `공공자전거`, `공유자전거`, `따릉이`"
   ]
  },
  {
   "cell_type": "code",
   "execution_count": 209,
   "metadata": {},
   "outputs": [],
   "source": [
    "from selenium import webdriver\n",
    "from selenium.webdriver.common.keys import Keys\n",
    "import time\n",
    "import pandas as pd\n",
    "import re\n",
    "from tqdm import tqdm\n",
    "\n",
    "driver = webdriver.Chrome('C:/Temp/chromedriver')\n",
    "driver.implicitly_wait(3)"
   ]
  },
  {
   "cell_type": "code",
   "execution_count": 210,
   "metadata": {},
   "outputs": [],
   "source": [
    "keyword = '공공자전거'\n",
    "start_date = '2021-03-11'\n",
    "end_date = '2021-04-11'\n",
    "\n",
    "# 네이버 블로그홈 접속\n",
    "url = 'https://section.blog.naver.com/BlogHome.nhn?directoryNo=0&currentPage=1&groupId=0'\n",
    "driver.get(url)\n",
    "time.sleep(2)\n",
    "\n",
    "# 검색 키워드 클릭\n",
    "src = driver.find_element_by_css_selector('div > div.area_search > form > fieldset > div > input')\n",
    "src.click()\n",
    "\n",
    "# 검색 키워드 입력\n",
    "elem = driver.find_element_by_css_selector('div > div.area_search > form > fieldset > div > input')\n",
    "elem.send_keys(keyword)\n",
    "elem.send_keys(Keys.ENTER)\n",
    "\n",
    "# 검색 기간 입력\n",
    "driver.find_element_by_css_selector('div.category_search > div.search_information > div > div > a > strong').click()\n",
    "\n",
    "# 시작일\n",
    "s_elem = driver.find_element_by_css_selector('#search_start_date')\n",
    "s_elem.click()\n",
    "time.sleep(1)\n",
    "s_elem.send_keys(start_date)\n",
    "\n",
    "# 종료일\n",
    "e_elem = driver.find_element_by_css_selector('#search_end_date')\n",
    "e_elem.click()\n",
    "time.sleep(1)\n",
    "e_elem.send_keys(end_date)\n",
    "\n",
    "driver.find_element_by_css_selector('#periodSearch').click()"
   ]
  },
  {
   "cell_type": "code",
   "execution_count": null,
   "metadata": {},
   "outputs": [],
   "source": [
    "# title, url 수집\n",
    "\n",
    "# 전체 검색된 블로그 게시물수 ()\n",
    "src_num = driver.find_element_by_class_name('search_number').text\n",
    "src_num = int(re.sub('[건,]','',src_num))\n",
    "\n",
    "title_list = []\n",
    "url_list = []\n",
    "page = 1\n",
    "\n",
    "while True:\n",
    "    url = 'https://section.blog.naver.com/Search/Post.nhn?pageNo='+str(page)+'&rangeType=PERIOD&orderBy=sim&startDate='+str(start_date)+'&endDate='+str(end_date)+'&keyword='+str(keyword)\n",
    "    driver.get(url)\n",
    "    page += 1\n",
    "    css_selectors = driver.find_elements_by_css_selector('div > div > div.info_post > div.desc > a.desc_inner')\n",
    "\n",
    "    # 첫 페이지의 title\n",
    "    for i in css_selectors:\n",
    "        title_list.append(i.text)\n",
    "    # 첫 페이지의 url\n",
    "    for i in css_selectors:\n",
    "        url_list.append(i.get_attribute('href'))\n",
    "    time.sleep(1)\n",
    "    \n",
    "    if len(title_list) > src_num:\n",
    "        break\n",
    "    print('수집한 데이터 :',len(title_list), src_num)\n",
    "driver.close()"
   ]
  },
  {
   "cell_type": "code",
   "execution_count": 224,
   "metadata": {},
   "outputs": [],
   "source": [
    "# 저장 (csv)\n",
    "df = pd.DataFrame({'title':title_list[0:src_num],'url':url_list[0:src_num]})\n",
    "df.to_csv(\"data/ky_naverblog_url.csv\", index = None)"
   ]
  },
  {
   "cell_type": "code",
   "execution_count": 254,
   "metadata": {},
   "outputs": [
    {
     "data": {
      "text/html": [
       "<div>\n",
       "<style scoped>\n",
       "    .dataframe tbody tr th:only-of-type {\n",
       "        vertical-align: middle;\n",
       "    }\n",
       "\n",
       "    .dataframe tbody tr th {\n",
       "        vertical-align: top;\n",
       "    }\n",
       "\n",
       "    .dataframe thead th {\n",
       "        text-align: right;\n",
       "    }\n",
       "</style>\n",
       "<table border=\"1\" class=\"dataframe\">\n",
       "  <thead>\n",
       "    <tr style=\"text-align: right;\">\n",
       "      <th></th>\n",
       "      <th>title</th>\n",
       "      <th>url</th>\n",
       "    </tr>\n",
       "  </thead>\n",
       "  <tbody>\n",
       "    <tr>\n",
       "      <th>0</th>\n",
       "      <td>제주도 공공자전거로(무료) 제주환상자전거길(별도봉에서 용두암까지) 왕복해보기</td>\n",
       "      <td>https://blog.naver.com/happyjejudo/222286762302</td>\n",
       "    </tr>\n",
       "    <tr>\n",
       "      <th>1</th>\n",
       "      <td>'두바퀴의 행복-공공자전거무료대여소' 이용기</td>\n",
       "      <td>https://blog.naver.com/pt_story/222276069058</td>\n",
       "    </tr>\n",
       "    <tr>\n",
       "      <th>2</th>\n",
       "      <td>너네 동네 공유자전거 이름은 뭐니? ㅡ 지역별 공공자전거 모음</td>\n",
       "      <td>https://blog.naver.com/nutz/222290433120</td>\n",
       "    </tr>\n",
       "    <tr>\n",
       "      <th>3</th>\n",
       "      <td>공공자전거 어울링 타고 즐기는 금강수변공원과 금강 다리 풍경</td>\n",
       "      <td>https://blog.naver.com/sejong_story/222287302881</td>\n",
       "    </tr>\n",
       "    <tr>\n",
       "      <th>4</th>\n",
       "      <td>여행 가이드 - 자전거 대여소 &amp; 자전거 투어 - 경북, 상주시, 상주역 공공자전거...</td>\n",
       "      <td>https://blog.naver.com/greatsangju/222288281875</td>\n",
       "    </tr>\n",
       "    <tr>\n",
       "      <th>...</th>\n",
       "      <td>...</td>\n",
       "      <td>...</td>\n",
       "    </tr>\n",
       "    <tr>\n",
       "      <th>1647</th>\n",
       "      <td>'21년 인공지능 학습용 데이터 구축사업 공모</td>\n",
       "      <td>https://blog.naver.com/higer31/222271877929</td>\n",
       "    </tr>\n",
       "    <tr>\n",
       "      <th>1648</th>\n",
       "      <td>2021-3-15 미세먼지 공기질 환기 뉴스 브리핑</td>\n",
       "      <td>https://blog.naver.com/eco-play/222275760773</td>\n",
       "    </tr>\n",
       "    <tr>\n",
       "      <th>1649</th>\n",
       "      <td>3/15 특징주</td>\n",
       "      <td>https://blog.naver.com/warmerspecial/222276641360</td>\n",
       "    </tr>\n",
       "    <tr>\n",
       "      <th>1650</th>\n",
       "      <td>2021-3-18 미세먼지 공기질 환기 뉴스 브리핑</td>\n",
       "      <td>https://blog.naver.com/eco-play/222279230070</td>\n",
       "    </tr>\n",
       "    <tr>\n",
       "      <th>1651</th>\n",
       "      <td>죽음을 사색하다… 삶을 사유하다</td>\n",
       "      <td>https://blog.naver.com/plht/222271599769</td>\n",
       "    </tr>\n",
       "  </tbody>\n",
       "</table>\n",
       "<p>1652 rows × 2 columns</p>\n",
       "</div>"
      ],
      "text/plain": [
       "                                                  title  \\\n",
       "0            제주도 공공자전거로(무료) 제주환상자전거길(별도봉에서 용두암까지) 왕복해보기   \n",
       "1                              '두바퀴의 행복-공공자전거무료대여소' 이용기   \n",
       "2                    너네 동네 공유자전거 이름은 뭐니? ㅡ 지역별 공공자전거 모음   \n",
       "3                     공공자전거 어울링 타고 즐기는 금강수변공원과 금강 다리 풍경   \n",
       "4     여행 가이드 - 자전거 대여소 & 자전거 투어 - 경북, 상주시, 상주역 공공자전거...   \n",
       "...                                                 ...   \n",
       "1647                          '21년 인공지능 학습용 데이터 구축사업 공모   \n",
       "1648                       2021-3-15 미세먼지 공기질 환기 뉴스 브리핑   \n",
       "1649                                           3/15 특징주   \n",
       "1650                       2021-3-18 미세먼지 공기질 환기 뉴스 브리핑   \n",
       "1651                                  죽음을 사색하다… 삶을 사유하다   \n",
       "\n",
       "                                                    url  \n",
       "0       https://blog.naver.com/happyjejudo/222286762302  \n",
       "1          https://blog.naver.com/pt_story/222276069058  \n",
       "2              https://blog.naver.com/nutz/222290433120  \n",
       "3      https://blog.naver.com/sejong_story/222287302881  \n",
       "4       https://blog.naver.com/greatsangju/222288281875  \n",
       "...                                                 ...  \n",
       "1647        https://blog.naver.com/higer31/222271877929  \n",
       "1648       https://blog.naver.com/eco-play/222275760773  \n",
       "1649  https://blog.naver.com/warmerspecial/222276641360  \n",
       "1650       https://blog.naver.com/eco-play/222279230070  \n",
       "1651           https://blog.naver.com/plht/222271599769  \n",
       "\n",
       "[1652 rows x 2 columns]"
      ]
     },
     "execution_count": 254,
     "metadata": {},
     "output_type": "execute_result"
    }
   ],
   "source": [
    "# csv파일 출력\n",
    "df = pd.read_csv('data/ky_naverblog_url.csv')\n",
    "df"
   ]
  },
  {
   "cell_type": "code",
   "execution_count": 276,
   "metadata": {},
   "outputs": [],
   "source": [
    "# for i in range(0,3):\n",
    "url = df['url'][0]\n",
    "driver = webdriver.Chrome('C:/Temp/chromedriver')\n",
    "driver.implicitly_wait(2)\n",
    "driver.get(url)"
   ]
  },
  {
   "cell_type": "code",
   "execution_count": 283,
   "metadata": {},
   "outputs": [],
   "source": [
    "# content\n",
    "contents = driver.find_element_by_css_selector('#SE-806ebf04-22af-40f9-bb18-98c7a379bb91 > b')\n",
    "# for content in contents:\n",
    "#     content_list.append(content.text)\n",
    "\n",
    "# driver.close()\n",
    "# time.sleep(0.5)"
   ]
  },
  {
   "cell_type": "code",
   "execution_count": 284,
   "metadata": {},
   "outputs": [
    {
     "data": {
      "text/plain": [
       "[]"
      ]
     },
     "execution_count": 284,
     "metadata": {},
     "output_type": "execute_result"
    }
   ],
   "source": [
    "contents"
   ]
  },
  {
   "cell_type": "code",
   "execution_count": 245,
   "metadata": {},
   "outputs": [],
   "source": [
    "# 저장 (csv)\n",
    "df = pd.DataFrame(dict)\n",
    "df.to_csv(\"data/ky_naverblog.csv\", index = None)"
   ]
  },
  {
   "cell_type": "code",
   "execution_count": null,
   "metadata": {},
   "outputs": [],
   "source": []
  }
 ],
 "metadata": {
  "kernelspec": {
   "display_name": "pydatavenv",
   "language": "python",
   "name": "pydatavenv"
  },
  "language_info": {
   "codemirror_mode": {
    "name": "ipython",
    "version": 3
   },
   "file_extension": ".py",
   "mimetype": "text/x-python",
   "name": "python",
   "nbconvert_exporter": "python",
   "pygments_lexer": "ipython3",
   "version": "3.8.8"
  }
 },
 "nbformat": 4,
 "nbformat_minor": 4
}
