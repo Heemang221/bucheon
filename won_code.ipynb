{
 "cells": [
  {
   "cell_type": "code",
   "execution_count": 17,
   "metadata": {},
   "outputs": [],
   "source": [
    "from selenium import webdriver\n",
    "import time\n",
    "\n",
    "driver = webdriver.Chrome('C:/Temp/chromedriver')\n",
    "driver.implicitly_wait(3)\n",
    "driver.get('https://www.code.go.kr/stdcode/regCodeL.do')\n",
    "time.sleep(3)\n",
    "\n",
    "click1 = driver.find_element_by_css_selector('#Type1')\n",
    "click1.click()\n",
    "time.sleep(1)\n",
    "\n",
    "click2 = driver.find_element_by_css_selector('#Type1 > option:nth-child(10)')\n",
    "click2.click()\n",
    "\n",
    "gu = []\n",
    "codes = []\n",
    "for i in range(25):\n",
    "    click = driver.find_element_by_css_selector('#Type2')\n",
    "    click.click()\n",
    "    time.sleep(1)\n",
    "    \n",
    "    j = str(i + 2)\n",
    "    click3 = driver.find_element_by_css_selector('#Type2 > option:nth-child(' + j + ')')\n",
    "    gu.append(click3.text)\n",
    "    click3.click()\n",
    "    click4 = driver.find_element_by_css_selector('#contents > form > table > tbody > tr:nth-child(1) > td > div.align-right.mt5.mb10 > a:nth-child(3)')\n",
    "    click4.click()\n",
    "    time.sleep(1)\n",
    "    code = driver.find_element_by_css_selector('#contents > form > table > tbody > tr:nth-child(3) > td > table > tbody > tr:nth-child(1) > td.table_left')\n",
    "    codes.append(code.text)"
   ]
  },
  {
   "cell_type": "code",
   "execution_count": 20,
   "metadata": {},
   "outputs": [],
   "source": [
    "import pandas as pd\n",
    "code = {'구' : gu, '코드' : codes}\n",
    "pd.DataFrame(code).to_csv('data/seoul/code.csv')"
   ]
  }
 ],
 "metadata": {
  "kernelspec": {
   "display_name": "pydatavenv",
   "language": "python",
   "name": "pydatavenv"
  },
  "language_info": {
   "codemirror_mode": {
    "name": "ipython",
    "version": 3
   },
   "file_extension": ".py",
   "mimetype": "text/x-python",
   "name": "python",
   "nbconvert_exporter": "python",
   "pygments_lexer": "ipython3",
   "version": "3.8.8"
  }
 },
 "nbformat": 4,
 "nbformat_minor": 4
}
