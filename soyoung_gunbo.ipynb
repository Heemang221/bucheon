{
 "cells": [
  {
   "cell_type": "code",
   "execution_count": 2,
   "metadata": {},
   "outputs": [],
   "source": [
    "import matplotlib.pyplot as plt\n",
    "plt.rc('font',family='Malgun Gothic')\n",
    "plt.rc('axes', unicode_minus = False)\n",
    "\n",
    "%matplotlib inline"
   ]
  },
  {
   "cell_type": "code",
   "execution_count": 1,
   "metadata": {},
   "outputs": [
    {
     "data": {
      "text/plain": [
       "array(['종로구', '중구', '용산구', '성동구', '광진구', '동대문구', '중랑구', '성북구', '강북구',\n",
       "       '도봉구', '노원구', '은평구', '서대문구', '마포구', '양천구', '강서구', '구로구', '금천구',\n",
       "       '영등포구', '동작구', '관악구', '서초구', '강남구', '송파구', '강동구', '동구', '미추홀구',\n",
       "       '연수구', '남동구', '부평구', '계양구', '서구', '강화군', '옹진군', '경기', '수원시 장안구',\n",
       "       '수원시 권선구', '수원시 팔달구', '수원시 영통구', '성남시 수정구', '성남시 중원구', '성남시 분당구',\n",
       "       '의정부시', '안양시 만안구', '안양시 동안구', '부천시', '광명시', '평택시', '동두천시',\n",
       "       '안산시 상록구', '안산시 단원구', '고양시 덕양구', '고양시 일산동구', '고양시 일산서구', '과천시',\n",
       "       '구리시', '남양주시', '오산시', '시흥시', '군포시', '의왕시', '하남시', '용인시 처인구',\n",
       "       '용인시 기흥구', '용인시 수지구', '파주시', '이천시', '안성시', '김포시', '화성시', '광주시',\n",
       "       '양주시', '포천시', '여주시', '연천군', '가평군', '양평군', '춘천시', '원주시', '강릉시',\n",
       "       '동해시', '태백시', '속초시', '삼척시', '홍천군', '횡성군', '영월군', '평창군', '정선군',\n",
       "       '철원군', '화천군', '양구군', '인제군', '고성군', '양양군'], dtype=object)"
      ]
     },
     "execution_count": 1,
     "metadata": {},
     "output_type": "execute_result"
    }
   ],
   "source": [
    "import pandas as pd\n",
    "Region_gunbo= pd.read_csv('./data/지역별 건보료.csv', encoding = 'ansi')\n",
    "Region_gunbo[\"시군구별\"].unique() "
   ]
  },
  {
   "cell_type": "code",
   "execution_count": 132,
   "metadata": {},
   "outputs": [
    {
     "data": {
      "text/html": [
       "<div>\n",
       "<style scoped>\n",
       "    .dataframe tbody tr th:only-of-type {\n",
       "        vertical-align: middle;\n",
       "    }\n",
       "\n",
       "    .dataframe tbody tr th {\n",
       "        vertical-align: top;\n",
       "    }\n",
       "\n",
       "    .dataframe thead th {\n",
       "        text-align: right;\n",
       "    }\n",
       "</style>\n",
       "<table border=\"1\" class=\"dataframe\">\n",
       "  <thead>\n",
       "    <tr style=\"text-align: right;\">\n",
       "      <th></th>\n",
       "      <th>시군구별</th>\n",
       "      <th>보험료분위별</th>\n",
       "      <th>가입자구분별</th>\n",
       "      <th>항목</th>\n",
       "      <th>단위</th>\n",
       "      <th>2019 년</th>\n",
       "      <th>Unnamed: 6</th>\n",
       "    </tr>\n",
       "  </thead>\n",
       "  <tbody>\n",
       "    <tr>\n",
       "      <th>0</th>\n",
       "      <td>종로구</td>\n",
       "      <td>계</td>\n",
       "      <td>계</td>\n",
       "      <td>세대수</td>\n",
       "      <td>세대</td>\n",
       "      <td>82125</td>\n",
       "      <td>NaN</td>\n",
       "    </tr>\n",
       "    <tr>\n",
       "      <th>1</th>\n",
       "      <td>종로구</td>\n",
       "      <td>계</td>\n",
       "      <td>계</td>\n",
       "      <td>평균보험료</td>\n",
       "      <td>원</td>\n",
       "      <td>136792</td>\n",
       "      <td>NaN</td>\n",
       "    </tr>\n",
       "    <tr>\n",
       "      <th>2</th>\n",
       "      <td>종로구</td>\n",
       "      <td>계</td>\n",
       "      <td>계</td>\n",
       "      <td>적용인구</td>\n",
       "      <td>명</td>\n",
       "      <td>146309</td>\n",
       "      <td>NaN</td>\n",
       "    </tr>\n",
       "    <tr>\n",
       "      <th>3</th>\n",
       "      <td>종로구</td>\n",
       "      <td>계</td>\n",
       "      <td>직장</td>\n",
       "      <td>가입자</td>\n",
       "      <td>명</td>\n",
       "      <td>53273</td>\n",
       "      <td>NaN</td>\n",
       "    </tr>\n",
       "    <tr>\n",
       "      <th>4</th>\n",
       "      <td>종로구</td>\n",
       "      <td>계</td>\n",
       "      <td>직장</td>\n",
       "      <td>평균보험료</td>\n",
       "      <td>원</td>\n",
       "      <td>142769</td>\n",
       "      <td>NaN</td>\n",
       "    </tr>\n",
       "    <tr>\n",
       "      <th>...</th>\n",
       "      <td>...</td>\n",
       "      <td>...</td>\n",
       "      <td>...</td>\n",
       "      <td>...</td>\n",
       "      <td>...</td>\n",
       "      <td>...</td>\n",
       "      <td>...</td>\n",
       "    </tr>\n",
       "    <tr>\n",
       "      <th>4285</th>\n",
       "      <td>중구</td>\n",
       "      <td>10분위</td>\n",
       "      <td>공교</td>\n",
       "      <td>평균보험료</td>\n",
       "      <td>원</td>\n",
       "      <td>239966</td>\n",
       "      <td>NaN</td>\n",
       "    </tr>\n",
       "    <tr>\n",
       "      <th>4286</th>\n",
       "      <td>중구</td>\n",
       "      <td>10분위</td>\n",
       "      <td>공교</td>\n",
       "      <td>적용인구</td>\n",
       "      <td>명</td>\n",
       "      <td>1853</td>\n",
       "      <td>NaN</td>\n",
       "    </tr>\n",
       "    <tr>\n",
       "      <th>4287</th>\n",
       "      <td>중구</td>\n",
       "      <td>10분위</td>\n",
       "      <td>지역</td>\n",
       "      <td>세대수</td>\n",
       "      <td>세대</td>\n",
       "      <td>2100</td>\n",
       "      <td>NaN</td>\n",
       "    </tr>\n",
       "    <tr>\n",
       "      <th>4288</th>\n",
       "      <td>중구</td>\n",
       "      <td>10분위</td>\n",
       "      <td>지역</td>\n",
       "      <td>평균보험료</td>\n",
       "      <td>원</td>\n",
       "      <td>334137</td>\n",
       "      <td>NaN</td>\n",
       "    </tr>\n",
       "    <tr>\n",
       "      <th>4289</th>\n",
       "      <td>중구</td>\n",
       "      <td>10분위</td>\n",
       "      <td>지역</td>\n",
       "      <td>적용인구</td>\n",
       "      <td>명</td>\n",
       "      <td>4764</td>\n",
       "      <td>NaN</td>\n",
       "    </tr>\n",
       "  </tbody>\n",
       "</table>\n",
       "<p>4290 rows × 7 columns</p>\n",
       "</div>"
      ],
      "text/plain": [
       "     시군구별 보험료분위별 가입자구분별     항목  단위  2019 년  Unnamed: 6\n",
       "0     종로구      계      계    세대수  세대   82125         NaN\n",
       "1     종로구      계      계  평균보험료   원  136792         NaN\n",
       "2     종로구      계      계   적용인구   명  146309         NaN\n",
       "3     종로구      계     직장    가입자   명   53273         NaN\n",
       "4     종로구      계     직장  평균보험료   원  142769         NaN\n",
       "...   ...    ...    ...    ...  ..     ...         ...\n",
       "4285   중구   10분위     공교  평균보험료   원  239966         NaN\n",
       "4286   중구   10분위     공교   적용인구   명    1853         NaN\n",
       "4287   중구   10분위     지역    세대수  세대    2100         NaN\n",
       "4288   중구   10분위     지역  평균보험료   원  334137         NaN\n",
       "4289   중구   10분위     지역   적용인구   명    4764         NaN\n",
       "\n",
       "[4290 rows x 7 columns]"
      ]
     },
     "execution_count": 132,
     "metadata": {},
     "output_type": "execute_result"
    }
   ],
   "source": [
    "df_seoul_gunbo = Region_gunbo[Region_gunbo[\"시군구별\"].str.contains('종로구|중구|용산구|성동구|광진구|동대문구|중랑구|성북구|강북구|도봉구|노원구|은평구|서대문구|마포구|양천구|강서구|구로구|금천구|영등포구|동작구|관악구|서초구|강남구|송파구|강동구')]\n",
    "df_seoul_gunbo"
   ]
  },
  {
   "cell_type": "code",
   "execution_count": 134,
   "metadata": {},
   "outputs": [
    {
     "data": {
      "text/html": [
       "<div>\n",
       "<style scoped>\n",
       "    .dataframe tbody tr th:only-of-type {\n",
       "        vertical-align: middle;\n",
       "    }\n",
       "\n",
       "    .dataframe tbody tr th {\n",
       "        vertical-align: top;\n",
       "    }\n",
       "\n",
       "    .dataframe thead th {\n",
       "        text-align: right;\n",
       "    }\n",
       "</style>\n",
       "<table border=\"1\" class=\"dataframe\">\n",
       "  <thead>\n",
       "    <tr style=\"text-align: right;\">\n",
       "      <th></th>\n",
       "      <th>보험료분위별</th>\n",
       "      <th>2019 년</th>\n",
       "    </tr>\n",
       "  </thead>\n",
       "  <tbody>\n",
       "    <tr>\n",
       "      <th>17</th>\n",
       "      <td>1분위</td>\n",
       "      <td>12058</td>\n",
       "    </tr>\n",
       "    <tr>\n",
       "      <th>32</th>\n",
       "      <td>2분위</td>\n",
       "      <td>10271</td>\n",
       "    </tr>\n",
       "    <tr>\n",
       "      <th>47</th>\n",
       "      <td>3분위</td>\n",
       "      <td>11150</td>\n",
       "    </tr>\n",
       "    <tr>\n",
       "      <th>62</th>\n",
       "      <td>4분위</td>\n",
       "      <td>11226</td>\n",
       "    </tr>\n",
       "    <tr>\n",
       "      <th>77</th>\n",
       "      <td>5분위</td>\n",
       "      <td>11298</td>\n",
       "    </tr>\n",
       "    <tr>\n",
       "      <th>92</th>\n",
       "      <td>6분위</td>\n",
       "      <td>11344</td>\n",
       "    </tr>\n",
       "    <tr>\n",
       "      <th>107</th>\n",
       "      <td>7분위</td>\n",
       "      <td>12182</td>\n",
       "    </tr>\n",
       "    <tr>\n",
       "      <th>122</th>\n",
       "      <td>8분위</td>\n",
       "      <td>15419</td>\n",
       "    </tr>\n",
       "    <tr>\n",
       "      <th>137</th>\n",
       "      <td>9분위</td>\n",
       "      <td>19373</td>\n",
       "    </tr>\n",
       "    <tr>\n",
       "      <th>152</th>\n",
       "      <td>10분위</td>\n",
       "      <td>31988</td>\n",
       "    </tr>\n",
       "  </tbody>\n",
       "</table>\n",
       "</div>"
      ],
      "text/plain": [
       "    보험료분위별  2019 년\n",
       "17     1분위   12058\n",
       "32     2분위   10271\n",
       "47     3분위   11150\n",
       "62     4분위   11226\n",
       "77     5분위   11298\n",
       "92     6분위   11344\n",
       "107    7분위   12182\n",
       "122    8분위   15419\n",
       "137    9분위   19373\n",
       "152   10분위   31988"
      ]
     },
     "execution_count": 134,
     "metadata": {},
     "output_type": "execute_result"
    }
   ],
   "source": [
    "df_jongro_gunbo = df_seoul_gunbo[df_seoul_gunbo[\"시군구별\"].str.contains('종로구')]\n",
    "df_jongro_gunbo = df_jongro_gunbo[df_jongro_gunbo[\"가입자구분별\"].str.contains('계')]\n",
    "df_jongro_gunbo = df_jongro_gunbo[~df_jongro_gunbo[\"보험료분위별\"].str.contains('계')]\n",
    "df_jongro_gunbo = df_jongro_gunbo[df_jongro_gunbo[\"항목\"].str.contains('적용인구')]\n",
    "\n",
    "df_jongro_gunbo['2019 년'] = pd.to_numeric(df_jongro_gunbo['2019 년'])\n",
    "df_jongro_gunbo = df_jongro_gunbo[['보험료분위별', '2019 년']]\n",
    "df_jongro_gunbo"
   ]
  },
  {
   "cell_type": "code",
   "execution_count": 175,
   "metadata": {},
   "outputs": [],
   "source": [
    "import numpy as np\n",
    "gunbo = np.array([1, 2,3,4,5,6,7,8,9,10])\n",
    "jongro_gunbo = np.repeat(gunbo, [12058, 10271,11150,11226,11298,11344,12182,15419,19373,31988], axis=0)"
   ]
  },
  {
   "cell_type": "code",
   "execution_count": 135,
   "metadata": {},
   "outputs": [
    {
     "data": {
      "text/plain": [
       "<AxesSubplot:xlabel='보험료분위별', ylabel='2019 년'>"
      ]
     },
     "execution_count": 135,
     "metadata": {},
     "output_type": "execute_result"
    },
    {
     "data": {
      "image/png": "[encoded data removed]",
      "text/plain": [
       "<Figure size 432x288 with 1 Axes>"
      ]
     },
     "metadata": {
      "needs_background": "light"
     },
     "output_type": "display_data"
    }
   ],
   "source": [
    "import seaborn as sns\n",
    "sns.barplot(data=df_jongro_gunbo, x=\"보험료분위별\", y=\"2019 년\")"
   ]
  },
  {
   "cell_type": "code",
   "execution_count": null,
   "metadata": {},
   "outputs": [],
   "source": [
    "sns.barplot()"
   ]
  },
  {
   "cell_type": "code",
   "execution_count": 136,
   "metadata": {},
   "outputs": [
    {
     "data": {
      "text/html": [
       "<div>\n",
       "<style scoped>\n",
       "    .dataframe tbody tr th:only-of-type {\n",
       "        vertical-align: middle;\n",
       "    }\n",
       "\n",
       "    .dataframe tbody tr th {\n",
       "        vertical-align: top;\n",
       "    }\n",
       "\n",
       "    .dataframe thead th {\n",
       "        text-align: right;\n",
       "    }\n",
       "</style>\n",
       "<table border=\"1\" class=\"dataframe\">\n",
       "  <thead>\n",
       "    <tr style=\"text-align: right;\">\n",
       "      <th></th>\n",
       "      <th>보험료분위별</th>\n",
       "      <th>2019 년</th>\n",
       "    </tr>\n",
       "  </thead>\n",
       "  <tbody>\n",
       "    <tr>\n",
       "      <th>182</th>\n",
       "      <td>1분위</td>\n",
       "      <td>9932</td>\n",
       "    </tr>\n",
       "    <tr>\n",
       "      <th>197</th>\n",
       "      <td>2분위</td>\n",
       "      <td>8487</td>\n",
       "    </tr>\n",
       "    <tr>\n",
       "      <th>212</th>\n",
       "      <td>3분위</td>\n",
       "      <td>11259</td>\n",
       "    </tr>\n",
       "    <tr>\n",
       "      <th>227</th>\n",
       "      <td>4분위</td>\n",
       "      <td>13922</td>\n",
       "    </tr>\n",
       "    <tr>\n",
       "      <th>242</th>\n",
       "      <td>5분위</td>\n",
       "      <td>10321</td>\n",
       "    </tr>\n",
       "    <tr>\n",
       "      <th>257</th>\n",
       "      <td>6분위</td>\n",
       "      <td>10396</td>\n",
       "    </tr>\n",
       "    <tr>\n",
       "      <th>272</th>\n",
       "      <td>7분위</td>\n",
       "      <td>12477</td>\n",
       "    </tr>\n",
       "    <tr>\n",
       "      <th>287</th>\n",
       "      <td>8분위</td>\n",
       "      <td>13735</td>\n",
       "    </tr>\n",
       "    <tr>\n",
       "      <th>302</th>\n",
       "      <td>9분위</td>\n",
       "      <td>16063</td>\n",
       "    </tr>\n",
       "    <tr>\n",
       "      <th>317</th>\n",
       "      <td>10분위</td>\n",
       "      <td>25060</td>\n",
       "    </tr>\n",
       "  </tbody>\n",
       "</table>\n",
       "</div>"
      ],
      "text/plain": [
       "    보험료분위별  2019 년\n",
       "182    1분위    9932\n",
       "197    2분위    8487\n",
       "212    3분위   11259\n",
       "227    4분위   13922\n",
       "242    5분위   10321\n",
       "257    6분위   10396\n",
       "272    7분위   12477\n",
       "287    8분위   13735\n",
       "302    9분위   16063\n",
       "317   10분위   25060"
      ]
     },
     "execution_count": 136,
     "metadata": {},
     "output_type": "execute_result"
    }
   ],
   "source": [
    "df_joong_gunbo = df_seoul_gunbo[df_seoul_gunbo[\"시군구별\"].str.contains('중구')]\n",
    "df_joong_gunbo = df_joong_gunbo[df_joong_gunbo[\"가입자구분별\"].str.contains('계')]\n",
    "df_joong_gunbo = df_joong_gunbo[~df_joong_gunbo[\"보험료분위별\"].str.contains('계')]\n",
    "df_joong_gunbo = df_joong_gunbo[df_joong_gunbo[\"항목\"].str.contains('적용인구')]\n",
    "\n",
    "df_joong_gunbo['2019 년'] = pd.to_numeric(df_joong_gunbo['2019 년'])\n",
    "df_joong_gunbo = df_joong_gunbo.head(10)\n",
    "df_joong_gunbo = df_joong_gunbo[['보험료분위별', '2019 년']]\n",
    "\n",
    "df_joong_gunbo"
   ]
  },
  {
   "cell_type": "code",
   "execution_count": 177,
   "metadata": {},
   "outputs": [],
   "source": [
    "import numpy as np\n",
    "gunbo = np.array([1, 2,3,4,5,6,7,8,9,10])\n",
    "joong_gunbo = np.repeat(gunbo, [9932, 8487,11259,13922,10321,10396,12477,13735,16063,25060], axis=0)"
   ]
  },
  {
   "cell_type": "code",
   "execution_count": 126,
   "metadata": {},
   "outputs": [
    {
     "data": {
      "text/plain": [
       "<AxesSubplot:xlabel='보험료분위별', ylabel='2019 년'>"
      ]
     },
     "execution_count": 126,
     "metadata": {},
     "output_type": "execute_result"
    },
    {
     "data": {
      "image/png": "[encoded data removed]",
      "text/plain": [
       "<Figure size 432x288 with 1 Axes>"
      ]
     },
     "metadata": {
      "needs_background": "light"
     },
     "output_type": "display_data"
    }
   ],
   "source": [
    "import seaborn as sns\n",
    "sns.barplot(data=df_joong_gunbo, x=\"보험료분위별\", y=\"2019 년\")"
   ]
  },
  {
   "cell_type": "code",
   "execution_count": 137,
   "metadata": {},
   "outputs": [
    {
     "data": {
      "text/html": [
       "<div>\n",
       "<style scoped>\n",
       "    .dataframe tbody tr th:only-of-type {\n",
       "        vertical-align: middle;\n",
       "    }\n",
       "\n",
       "    .dataframe tbody tr th {\n",
       "        vertical-align: top;\n",
       "    }\n",
       "\n",
       "    .dataframe thead th {\n",
       "        text-align: right;\n",
       "    }\n",
       "</style>\n",
       "<table border=\"1\" class=\"dataframe\">\n",
       "  <thead>\n",
       "    <tr style=\"text-align: right;\">\n",
       "      <th></th>\n",
       "      <th>보험료분위별</th>\n",
       "      <th>2019 년</th>\n",
       "    </tr>\n",
       "  </thead>\n",
       "  <tbody>\n",
       "    <tr>\n",
       "      <th>347</th>\n",
       "      <td>1분위</td>\n",
       "      <td>15019</td>\n",
       "    </tr>\n",
       "    <tr>\n",
       "      <th>362</th>\n",
       "      <td>2분위</td>\n",
       "      <td>13163</td>\n",
       "    </tr>\n",
       "    <tr>\n",
       "      <th>377</th>\n",
       "      <td>3분위</td>\n",
       "      <td>14466</td>\n",
       "    </tr>\n",
       "    <tr>\n",
       "      <th>392</th>\n",
       "      <td>4분위</td>\n",
       "      <td>19631</td>\n",
       "    </tr>\n",
       "    <tr>\n",
       "      <th>407</th>\n",
       "      <td>5분위</td>\n",
       "      <td>17152</td>\n",
       "    </tr>\n",
       "    <tr>\n",
       "      <th>422</th>\n",
       "      <td>6분위</td>\n",
       "      <td>16110</td>\n",
       "    </tr>\n",
       "    <tr>\n",
       "      <th>437</th>\n",
       "      <td>7분위</td>\n",
       "      <td>18028</td>\n",
       "    </tr>\n",
       "    <tr>\n",
       "      <th>452</th>\n",
       "      <td>8분위</td>\n",
       "      <td>22309</td>\n",
       "    </tr>\n",
       "    <tr>\n",
       "      <th>467</th>\n",
       "      <td>9분위</td>\n",
       "      <td>29517</td>\n",
       "    </tr>\n",
       "    <tr>\n",
       "      <th>482</th>\n",
       "      <td>10분위</td>\n",
       "      <td>53946</td>\n",
       "    </tr>\n",
       "  </tbody>\n",
       "</table>\n",
       "</div>"
      ],
      "text/plain": [
       "    보험료분위별  2019 년\n",
       "347    1분위   15019\n",
       "362    2분위   13163\n",
       "377    3분위   14466\n",
       "392    4분위   19631\n",
       "407    5분위   17152\n",
       "422    6분위   16110\n",
       "437    7분위   18028\n",
       "452    8분위   22309\n",
       "467    9분위   29517\n",
       "482   10분위   53946"
      ]
     },
     "execution_count": 137,
     "metadata": {},
     "output_type": "execute_result"
    }
   ],
   "source": [
    "df_yongsan_gunbo = df_seoul_gunbo[df_seoul_gunbo[\"시군구별\"].str.contains('용산구')]\n",
    "df_yongsan_gunbo = df_yongsan_gunbo[df_yongsan_gunbo[\"가입자구분별\"].str.contains('계')]\n",
    "df_yongsan_gunbo = df_yongsan_gunbo[~df_yongsan_gunbo[\"보험료분위별\"].str.contains('계')]\n",
    "df_yongsan_gunbo = df_yongsan_gunbo[df_yongsan_gunbo[\"항목\"].str.contains('적용인구')]\n",
    "\n",
    "df_yongsan_gunbo['2019 년'] = pd.to_numeric(df_yongsan_gunbo['2019 년'])\n",
    "df_yongsan_gunbo = df_yongsan_gunbo[['보험료분위별', '2019 년']]\n",
    "\n",
    "df_yongsan_gunbo"
   ]
  },
  {
   "cell_type": "code",
   "execution_count": 179,
   "metadata": {},
   "outputs": [],
   "source": [
    "import numpy as np\n",
    "gunbo = np.array([1, 2,3,4,5,6,7,8,9,10])\n",
    "yongsan_gunbo = np.repeat(gunbo, [15019, 13163,14466,19631,17152,16110,18028,22309,29517,53946], axis=0)"
   ]
  },
  {
   "cell_type": "code",
   "execution_count": 138,
   "metadata": {},
   "outputs": [
    {
     "data": {
      "text/plain": [
       "<AxesSubplot:xlabel='보험료분위별', ylabel='2019 년'>"
      ]
     },
     "execution_count": 138,
     "metadata": {},
     "output_type": "execute_result"
    },
    {
     "data": {
      "image/png": "[encoded data removed]",
      "text/plain": [
       "<Figure size 432x288 with 1 Axes>"
      ]
     },
     "metadata": {
      "needs_background": "light"
     },
     "output_type": "display_data"
    }
   ],
   "source": [
    "import seaborn as sns\n",
    "sns.barplot(data=df_yongsan_gunbo, x=\"보험료분위별\", y=\"2019 년\")"
   ]
  },
  {
   "cell_type": "code",
   "execution_count": 139,
   "metadata": {},
   "outputs": [
    {
     "data": {
      "text/html": [
       "<div>\n",
       "<style scoped>\n",
       "    .dataframe tbody tr th:only-of-type {\n",
       "        vertical-align: middle;\n",
       "    }\n",
       "\n",
       "    .dataframe tbody tr th {\n",
       "        vertical-align: top;\n",
       "    }\n",
       "\n",
       "    .dataframe thead th {\n",
       "        text-align: right;\n",
       "    }\n",
       "</style>\n",
       "<table border=\"1\" class=\"dataframe\">\n",
       "  <thead>\n",
       "    <tr style=\"text-align: right;\">\n",
       "      <th></th>\n",
       "      <th>보험료분위별</th>\n",
       "      <th>2019 년</th>\n",
       "    </tr>\n",
       "  </thead>\n",
       "  <tbody>\n",
       "    <tr>\n",
       "      <th>512</th>\n",
       "      <td>1분위</td>\n",
       "      <td>20559</td>\n",
       "    </tr>\n",
       "    <tr>\n",
       "      <th>527</th>\n",
       "      <td>2분위</td>\n",
       "      <td>17919</td>\n",
       "    </tr>\n",
       "    <tr>\n",
       "      <th>542</th>\n",
       "      <td>3분위</td>\n",
       "      <td>20659</td>\n",
       "    </tr>\n",
       "    <tr>\n",
       "      <th>557</th>\n",
       "      <td>4분위</td>\n",
       "      <td>26362</td>\n",
       "    </tr>\n",
       "    <tr>\n",
       "      <th>572</th>\n",
       "      <td>5분위</td>\n",
       "      <td>21536</td>\n",
       "    </tr>\n",
       "    <tr>\n",
       "      <th>587</th>\n",
       "      <td>6분위</td>\n",
       "      <td>22023</td>\n",
       "    </tr>\n",
       "    <tr>\n",
       "      <th>602</th>\n",
       "      <td>7분위</td>\n",
       "      <td>24838</td>\n",
       "    </tr>\n",
       "    <tr>\n",
       "      <th>617</th>\n",
       "      <td>8분위</td>\n",
       "      <td>32849</td>\n",
       "    </tr>\n",
       "    <tr>\n",
       "      <th>632</th>\n",
       "      <td>9분위</td>\n",
       "      <td>42861</td>\n",
       "    </tr>\n",
       "    <tr>\n",
       "      <th>647</th>\n",
       "      <td>10분위</td>\n",
       "      <td>64619</td>\n",
       "    </tr>\n",
       "  </tbody>\n",
       "</table>\n",
       "</div>"
      ],
      "text/plain": [
       "    보험료분위별  2019 년\n",
       "512    1분위   20559\n",
       "527    2분위   17919\n",
       "542    3분위   20659\n",
       "557    4분위   26362\n",
       "572    5분위   21536\n",
       "587    6분위   22023\n",
       "602    7분위   24838\n",
       "617    8분위   32849\n",
       "632    9분위   42861\n",
       "647   10분위   64619"
      ]
     },
     "execution_count": 139,
     "metadata": {},
     "output_type": "execute_result"
    }
   ],
   "source": [
    "df_sungdong_gunbo = df_seoul_gunbo[df_seoul_gunbo[\"시군구별\"].str.contains('성동구')]\n",
    "df_sungdong_gunbo = df_sungdong_gunbo[df_sungdong_gunbo[\"가입자구분별\"].str.contains('계')]\n",
    "df_sungdong_gunbo = df_sungdong_gunbo[~df_sungdong_gunbo[\"보험료분위별\"].str.contains('계')]\n",
    "df_sungdong_gunbo = df_sungdong_gunbo[df_sungdong_gunbo[\"항목\"].str.contains('적용인구')]\n",
    "\n",
    "df_sungdong_gunbo['2019 년'] = pd.to_numeric(df_sungdong_gunbo['2019 년'])\n",
    "df_sungdong_gunbo = df_sungdong_gunbo[['보험료분위별', '2019 년']]\n",
    "\n",
    "df_sungdong_gunbo"
   ]
  },
  {
   "cell_type": "code",
   "execution_count": 180,
   "metadata": {},
   "outputs": [],
   "source": [
    "import numpy as np\n",
    "gunbo = np.array([1, 2,3,4,5,6,7,8,9,10])\n",
    "sungdong_gunbo = np.repeat(gunbo, [20559, 17919,20659,26362,21536,22023,24838,32849,42861,64619], axis=0)"
   ]
  },
  {
   "cell_type": "code",
   "execution_count": 140,
   "metadata": {},
   "outputs": [
    {
     "data": {
      "text/plain": [
       "<AxesSubplot:xlabel='보험료분위별', ylabel='2019 년'>"
      ]
     },
     "execution_count": 140,
     "metadata": {},
     "output_type": "execute_result"
    },
    {
     "data": {
      "image/png": "[encoded data removed]",
      "text/plain": [
       "<Figure size 432x288 with 1 Axes>"
      ]
     },
     "metadata": {
      "needs_background": "light"
     },
     "output_type": "display_data"
    }
   ],
   "source": [
    "import seaborn as sns\n",
    "sns.barplot(data=df_sungdong_gunbo, x=\"보험료분위별\", y=\"2019 년\")"
   ]
  },
  {
   "cell_type": "code",
   "execution_count": 141,
   "metadata": {},
   "outputs": [
    {
     "data": {
      "text/html": [
       "<div>\n",
       "<style scoped>\n",
       "    .dataframe tbody tr th:only-of-type {\n",
       "        vertical-align: middle;\n",
       "    }\n",
       "\n",
       "    .dataframe tbody tr th {\n",
       "        vertical-align: top;\n",
       "    }\n",
       "\n",
       "    .dataframe thead th {\n",
       "        text-align: right;\n",
       "    }\n",
       "</style>\n",
       "<table border=\"1\" class=\"dataframe\">\n",
       "  <thead>\n",
       "    <tr style=\"text-align: right;\">\n",
       "      <th></th>\n",
       "      <th>보험료분위별</th>\n",
       "      <th>2019 년</th>\n",
       "    </tr>\n",
       "  </thead>\n",
       "  <tbody>\n",
       "    <tr>\n",
       "      <th>677</th>\n",
       "      <td>1분위</td>\n",
       "      <td>23284</td>\n",
       "    </tr>\n",
       "    <tr>\n",
       "      <th>692</th>\n",
       "      <td>2분위</td>\n",
       "      <td>24415</td>\n",
       "    </tr>\n",
       "    <tr>\n",
       "      <th>707</th>\n",
       "      <td>3분위</td>\n",
       "      <td>32414</td>\n",
       "    </tr>\n",
       "    <tr>\n",
       "      <th>722</th>\n",
       "      <td>4분위</td>\n",
       "      <td>31034</td>\n",
       "    </tr>\n",
       "    <tr>\n",
       "      <th>737</th>\n",
       "      <td>5분위</td>\n",
       "      <td>30464</td>\n",
       "    </tr>\n",
       "    <tr>\n",
       "      <th>752</th>\n",
       "      <td>6분위</td>\n",
       "      <td>29579</td>\n",
       "    </tr>\n",
       "    <tr>\n",
       "      <th>767</th>\n",
       "      <td>7분위</td>\n",
       "      <td>35415</td>\n",
       "    </tr>\n",
       "    <tr>\n",
       "      <th>782</th>\n",
       "      <td>8분위</td>\n",
       "      <td>37662</td>\n",
       "    </tr>\n",
       "    <tr>\n",
       "      <th>797</th>\n",
       "      <td>9분위</td>\n",
       "      <td>43963</td>\n",
       "    </tr>\n",
       "    <tr>\n",
       "      <th>812</th>\n",
       "      <td>10분위</td>\n",
       "      <td>58644</td>\n",
       "    </tr>\n",
       "  </tbody>\n",
       "</table>\n",
       "</div>"
      ],
      "text/plain": [
       "    보험료분위별  2019 년\n",
       "677    1분위   23284\n",
       "692    2분위   24415\n",
       "707    3분위   32414\n",
       "722    4분위   31034\n",
       "737    5분위   30464\n",
       "752    6분위   29579\n",
       "767    7분위   35415\n",
       "782    8분위   37662\n",
       "797    9분위   43963\n",
       "812   10분위   58644"
      ]
     },
     "execution_count": 141,
     "metadata": {},
     "output_type": "execute_result"
    }
   ],
   "source": [
    "df_gwangjin_gunbo = df_seoul_gunbo[df_seoul_gunbo[\"시군구별\"].str.contains('광진구')]\n",
    "df_gwangjin_gunbo = df_gwangjin_gunbo[df_gwangjin_gunbo[\"가입자구분별\"].str.contains('계')]\n",
    "df_gwangjin_gunbo = df_gwangjin_gunbo[~df_gwangjin_gunbo[\"보험료분위별\"].str.contains('계')]\n",
    "df_gwangjin_gunbo = df_gwangjin_gunbo[df_gwangjin_gunbo[\"항목\"].str.contains('적용인구')]\n",
    "\n",
    "df_gwangjin_gunbo['2019 년'] = pd.to_numeric(df_gwangjin_gunbo['2019 년'])\n",
    "df_gwangjin_gunbo = df_gwangjin_gunbo[['보험료분위별', '2019 년']]\n",
    "\n",
    "df_gwangjin_gunbo"
   ]
  },
  {
   "cell_type": "code",
   "execution_count": 181,
   "metadata": {},
   "outputs": [],
   "source": [
    "import numpy as np\n",
    "gunbo = np.array([1, 2,3,4,5,6,7,8,9,10])\n",
    "gwangjin_gunbo = np.repeat(gunbo, [23284, 24415,32414,31034,30464,29579,35415,37662,43963,58644], axis=0)"
   ]
  },
  {
   "cell_type": "code",
   "execution_count": 142,
   "metadata": {},
   "outputs": [
    {
     "data": {
      "text/plain": [
       "<AxesSubplot:xlabel='보험료분위별', ylabel='2019 년'>"
      ]
     },
     "execution_count": 142,
     "metadata": {},
     "output_type": "execute_result"
    },
    {
     "data": {
      "image/png": "[encoded data removed]",
      "text/plain": [
       "<Figure size 432x288 with 1 Axes>"
      ]
     },
     "metadata": {
      "needs_background": "light"
     },
     "output_type": "display_data"
    }
   ],
   "source": [
    "import seaborn as sns\n",
    "sns.barplot(data=df_gwangjin_gunbo, x=\"보험료분위별\", y=\"2019 년\")"
   ]
  },
  {
   "cell_type": "code",
   "execution_count": 143,
   "metadata": {},
   "outputs": [
    {
     "data": {
      "text/html": [
       "<div>\n",
       "<style scoped>\n",
       "    .dataframe tbody tr th:only-of-type {\n",
       "        vertical-align: middle;\n",
       "    }\n",
       "\n",
       "    .dataframe tbody tr th {\n",
       "        vertical-align: top;\n",
       "    }\n",
       "\n",
       "    .dataframe thead th {\n",
       "        text-align: right;\n",
       "    }\n",
       "</style>\n",
       "<table border=\"1\" class=\"dataframe\">\n",
       "  <thead>\n",
       "    <tr style=\"text-align: right;\">\n",
       "      <th></th>\n",
       "      <th>보험료분위별</th>\n",
       "      <th>2019 년</th>\n",
       "    </tr>\n",
       "  </thead>\n",
       "  <tbody>\n",
       "    <tr>\n",
       "      <th>842</th>\n",
       "      <td>1분위</td>\n",
       "      <td>26172</td>\n",
       "    </tr>\n",
       "    <tr>\n",
       "      <th>857</th>\n",
       "      <td>2분위</td>\n",
       "      <td>24997</td>\n",
       "    </tr>\n",
       "    <tr>\n",
       "      <th>872</th>\n",
       "      <td>3분위</td>\n",
       "      <td>28577</td>\n",
       "    </tr>\n",
       "    <tr>\n",
       "      <th>887</th>\n",
       "      <td>4분위</td>\n",
       "      <td>29184</td>\n",
       "    </tr>\n",
       "    <tr>\n",
       "      <th>902</th>\n",
       "      <td>5분위</td>\n",
       "      <td>26313</td>\n",
       "    </tr>\n",
       "    <tr>\n",
       "      <th>917</th>\n",
       "      <td>6분위</td>\n",
       "      <td>26847</td>\n",
       "    </tr>\n",
       "    <tr>\n",
       "      <th>932</th>\n",
       "      <td>7분위</td>\n",
       "      <td>29547</td>\n",
       "    </tr>\n",
       "    <tr>\n",
       "      <th>947</th>\n",
       "      <td>8분위</td>\n",
       "      <td>38568</td>\n",
       "    </tr>\n",
       "    <tr>\n",
       "      <th>962</th>\n",
       "      <td>9분위</td>\n",
       "      <td>43447</td>\n",
       "    </tr>\n",
       "    <tr>\n",
       "      <th>977</th>\n",
       "      <td>10분위</td>\n",
       "      <td>47438</td>\n",
       "    </tr>\n",
       "  </tbody>\n",
       "</table>\n",
       "</div>"
      ],
      "text/plain": [
       "    보험료분위별  2019 년\n",
       "842    1분위   26172\n",
       "857    2분위   24997\n",
       "872    3분위   28577\n",
       "887    4분위   29184\n",
       "902    5분위   26313\n",
       "917    6분위   26847\n",
       "932    7분위   29547\n",
       "947    8분위   38568\n",
       "962    9분위   43447\n",
       "977   10분위   47438"
      ]
     },
     "execution_count": 143,
     "metadata": {},
     "output_type": "execute_result"
    }
   ],
   "source": [
    "df_dongdaemoon_gunbo = df_seoul_gunbo[df_seoul_gunbo[\"시군구별\"].str.contains('동대문구')]\n",
    "df_dongdaemoon_gunbo = df_dongdaemoon_gunbo[df_dongdaemoon_gunbo[\"가입자구분별\"].str.contains('계')]\n",
    "df_dongdaemoon_gunbo = df_dongdaemoon_gunbo[~df_dongdaemoon_gunbo[\"보험료분위별\"].str.contains('계')]\n",
    "df_dongdaemoon_gunbo = df_dongdaemoon_gunbo[df_dongdaemoon_gunbo[\"항목\"].str.contains('적용인구')]\n",
    "\n",
    "df_dongdaemoon_gunbo['2019 년'] = pd.to_numeric(df_dongdaemoon_gunbo['2019 년'])\n",
    "df_dongdaemoon_gunbo = df_dongdaemoon_gunbo[['보험료분위별', '2019 년']]\n",
    "\n",
    "df_dongdaemoon_gunbo"
   ]
  },
  {
   "cell_type": "code",
   "execution_count": 182,
   "metadata": {},
   "outputs": [],
   "source": [
    "import numpy as np\n",
    "gunbo = np.array([1, 2,3,4,5,6,7,8,9,10])\n",
    "dongdaemoon_gunbo = np.repeat(gunbo, [26172, 24997,28577,29184,26313,26847,29547,38568,43447,47438], axis=0)"
   ]
  },
  {
   "cell_type": "code",
   "execution_count": 76,
   "metadata": {},
   "outputs": [
    {
     "data": {
      "text/plain": [
       "<AxesSubplot:xlabel='보험료분위별', ylabel='2019 년'>"
      ]
     },
     "execution_count": 76,
     "metadata": {},
     "output_type": "execute_result"
    },
    {
     "data": {
      "image/png": "[encoded data removed]",
      "text/plain": [
       "<Figure size 432x288 with 1 Axes>"
      ]
     },
     "metadata": {
      "needs_background": "light"
     },
     "output_type": "display_data"
    }
   ],
   "source": [
    "import seaborn as sns\n",
    "sns.barplot(data=df_dongdaemoon_gunbo, x=\"보험료분위별\", y=\"2019 년\")"
   ]
  },
  {
   "cell_type": "code",
   "execution_count": 144,
   "metadata": {},
   "outputs": [
    {
     "data": {
      "text/html": [
       "<div>\n",
       "<style scoped>\n",
       "    .dataframe tbody tr th:only-of-type {\n",
       "        vertical-align: middle;\n",
       "    }\n",
       "\n",
       "    .dataframe tbody tr th {\n",
       "        vertical-align: top;\n",
       "    }\n",
       "\n",
       "    .dataframe thead th {\n",
       "        text-align: right;\n",
       "    }\n",
       "</style>\n",
       "<table border=\"1\" class=\"dataframe\">\n",
       "  <thead>\n",
       "    <tr style=\"text-align: right;\">\n",
       "      <th></th>\n",
       "      <th>보험료분위별</th>\n",
       "      <th>2019 년</th>\n",
       "    </tr>\n",
       "  </thead>\n",
       "  <tbody>\n",
       "    <tr>\n",
       "      <th>1007</th>\n",
       "      <td>1분위</td>\n",
       "      <td>31960</td>\n",
       "    </tr>\n",
       "    <tr>\n",
       "      <th>1022</th>\n",
       "      <td>2분위</td>\n",
       "      <td>31306</td>\n",
       "    </tr>\n",
       "    <tr>\n",
       "      <th>1037</th>\n",
       "      <td>3분위</td>\n",
       "      <td>35492</td>\n",
       "    </tr>\n",
       "    <tr>\n",
       "      <th>1052</th>\n",
       "      <td>4분위</td>\n",
       "      <td>39371</td>\n",
       "    </tr>\n",
       "    <tr>\n",
       "      <th>1067</th>\n",
       "      <td>5분위</td>\n",
       "      <td>35764</td>\n",
       "    </tr>\n",
       "    <tr>\n",
       "      <th>1082</th>\n",
       "      <td>6분위</td>\n",
       "      <td>37325</td>\n",
       "    </tr>\n",
       "    <tr>\n",
       "      <th>1097</th>\n",
       "      <td>7분위</td>\n",
       "      <td>36781</td>\n",
       "    </tr>\n",
       "    <tr>\n",
       "      <th>1112</th>\n",
       "      <td>8분위</td>\n",
       "      <td>44437</td>\n",
       "    </tr>\n",
       "    <tr>\n",
       "      <th>1127</th>\n",
       "      <td>9분위</td>\n",
       "      <td>41288</td>\n",
       "    </tr>\n",
       "    <tr>\n",
       "      <th>1142</th>\n",
       "      <td>10분위</td>\n",
       "      <td>35592</td>\n",
       "    </tr>\n",
       "  </tbody>\n",
       "</table>\n",
       "</div>"
      ],
      "text/plain": [
       "     보험료분위별  2019 년\n",
       "1007    1분위   31960\n",
       "1022    2분위   31306\n",
       "1037    3분위   35492\n",
       "1052    4분위   39371\n",
       "1067    5분위   35764\n",
       "1082    6분위   37325\n",
       "1097    7분위   36781\n",
       "1112    8분위   44437\n",
       "1127    9분위   41288\n",
       "1142   10분위   35592"
      ]
     },
     "execution_count": 144,
     "metadata": {},
     "output_type": "execute_result"
    }
   ],
   "source": [
    "df_joongrang_gunbo = df_seoul_gunbo[df_seoul_gunbo[\"시군구별\"].str.contains('중랑구')]\n",
    "df_joongrang_gunbo = df_joongrang_gunbo[df_joongrang_gunbo[\"가입자구분별\"].str.contains('계')]\n",
    "df_joongrang_gunbo = df_joongrang_gunbo[~df_joongrang_gunbo[\"보험료분위별\"].str.contains('계')]\n",
    "df_joongrang_gunbo = df_joongrang_gunbo[df_joongrang_gunbo[\"항목\"].str.contains('적용인구')]\n",
    "\n",
    "df_joongrang_gunbo['2019 년'] = pd.to_numeric(df_joongrang_gunbo['2019 년'])\n",
    "df_joongrang_gunbo = df_joongrang_gunbo[['보험료분위별', '2019 년']]\n",
    "\n",
    "df_joongrang_gunbo"
   ]
  },
  {
   "cell_type": "code",
   "execution_count": 183,
   "metadata": {},
   "outputs": [],
   "source": [
    "import numpy as np\n",
    "gunbo = np.array([1, 2,3,4,5,6,7,8,9,10])\n",
    "joongrang_gunbo = np.repeat(gunbo, [31960, 31306,35492,39371,35764,37325,36781,44437,41288,35592], axis=0)"
   ]
  },
  {
   "cell_type": "code",
   "execution_count": 78,
   "metadata": {},
   "outputs": [
    {
     "data": {
      "text/plain": [
       "<AxesSubplot:xlabel='보험료분위별', ylabel='2019 년'>"
      ]
     },
     "execution_count": 78,
     "metadata": {},
     "output_type": "execute_result"
    },
    {
     "data": {
      "image/png": "[encoded data removed]",
      "text/plain": [
       "<Figure size 432x288 with 1 Axes>"
      ]
     },
     "metadata": {
      "needs_background": "light"
     },
     "output_type": "display_data"
    }
   ],
   "source": [
    "import seaborn as sns\n",
    "sns.barplot(data=df_joongrang_gunbo, x=\"보험료분위별\", y=\"2019 년\")"
   ]
  },
  {
   "cell_type": "code",
   "execution_count": 145,
   "metadata": {},
   "outputs": [
    {
     "data": {
      "text/html": [
       "<div>\n",
       "<style scoped>\n",
       "    .dataframe tbody tr th:only-of-type {\n",
       "        vertical-align: middle;\n",
       "    }\n",
       "\n",
       "    .dataframe tbody tr th {\n",
       "        vertical-align: top;\n",
       "    }\n",
       "\n",
       "    .dataframe thead th {\n",
       "        text-align: right;\n",
       "    }\n",
       "</style>\n",
       "<table border=\"1\" class=\"dataframe\">\n",
       "  <thead>\n",
       "    <tr style=\"text-align: right;\">\n",
       "      <th></th>\n",
       "      <th>보험료분위별</th>\n",
       "      <th>2019 년</th>\n",
       "    </tr>\n",
       "  </thead>\n",
       "  <tbody>\n",
       "    <tr>\n",
       "      <th>1172</th>\n",
       "      <td>1분위</td>\n",
       "      <td>32458</td>\n",
       "    </tr>\n",
       "    <tr>\n",
       "      <th>1187</th>\n",
       "      <td>2분위</td>\n",
       "      <td>27662</td>\n",
       "    </tr>\n",
       "    <tr>\n",
       "      <th>1202</th>\n",
       "      <td>3분위</td>\n",
       "      <td>32336</td>\n",
       "    </tr>\n",
       "    <tr>\n",
       "      <th>1217</th>\n",
       "      <td>4분위</td>\n",
       "      <td>37214</td>\n",
       "    </tr>\n",
       "    <tr>\n",
       "      <th>1232</th>\n",
       "      <td>5분위</td>\n",
       "      <td>31786</td>\n",
       "    </tr>\n",
       "    <tr>\n",
       "      <th>1247</th>\n",
       "      <td>6분위</td>\n",
       "      <td>33604</td>\n",
       "    </tr>\n",
       "    <tr>\n",
       "      <th>1262</th>\n",
       "      <td>7분위</td>\n",
       "      <td>35975</td>\n",
       "    </tr>\n",
       "    <tr>\n",
       "      <th>1277</th>\n",
       "      <td>8분위</td>\n",
       "      <td>50305</td>\n",
       "    </tr>\n",
       "    <tr>\n",
       "      <th>1292</th>\n",
       "      <td>9분위</td>\n",
       "      <td>59825</td>\n",
       "    </tr>\n",
       "    <tr>\n",
       "      <th>1307</th>\n",
       "      <td>10분위</td>\n",
       "      <td>74831</td>\n",
       "    </tr>\n",
       "  </tbody>\n",
       "</table>\n",
       "</div>"
      ],
      "text/plain": [
       "     보험료분위별  2019 년\n",
       "1172    1분위   32458\n",
       "1187    2분위   27662\n",
       "1202    3분위   32336\n",
       "1217    4분위   37214\n",
       "1232    5분위   31786\n",
       "1247    6분위   33604\n",
       "1262    7분위   35975\n",
       "1277    8분위   50305\n",
       "1292    9분위   59825\n",
       "1307   10분위   74831"
      ]
     },
     "execution_count": 145,
     "metadata": {},
     "output_type": "execute_result"
    }
   ],
   "source": [
    "df_seongbook_gunbo = df_seoul_gunbo[df_seoul_gunbo[\"시군구별\"].str.contains('성북구')]\n",
    "df_seongbook_gunbo = df_seongbook_gunbo[df_seongbook_gunbo[\"가입자구분별\"].str.contains('계')]\n",
    "df_seongbook_gunbo = df_seongbook_gunbo[~df_seongbook_gunbo[\"보험료분위별\"].str.contains('계')]\n",
    "df_seongbook_gunbo = df_seongbook_gunbo[df_seongbook_gunbo[\"항목\"].str.contains('적용인구')]\n",
    "\n",
    "df_seongbook_gunbo['2019 년'] = pd.to_numeric(df_seongbook_gunbo['2019 년'])\n",
    "df_seongbook_gunbo = df_seongbook_gunbo[['보험료분위별', '2019 년']]\n",
    "\n",
    "df_seongbook_gunbo"
   ]
  },
  {
   "cell_type": "code",
   "execution_count": 184,
   "metadata": {},
   "outputs": [],
   "source": [
    "import numpy as np\n",
    "gunbo = np.array([1,2,3,4,5,6,7,8,9,10])\n",
    "seongbook_gunbo = np.repeat(gunbo, [32458, 27662,32336,37214,31786,33604,35975,50305,59825,74831], axis=0)"
   ]
  },
  {
   "cell_type": "code",
   "execution_count": 146,
   "metadata": {},
   "outputs": [
    {
     "data": {
      "text/plain": [
       "<AxesSubplot:xlabel='보험료분위별', ylabel='2019 년'>"
      ]
     },
     "execution_count": 146,
     "metadata": {},
     "output_type": "execute_result"
    },
    {
     "data": {
      "image/png": "[encoded data removed]",
      "text/plain": [
       "<Figure size 432x288 with 1 Axes>"
      ]
     },
     "metadata": {
      "needs_background": "light"
     },
     "output_type": "display_data"
    }
   ],
   "source": [
    "import seaborn as sns\n",
    "sns.barplot(data=df_seongbook_gunbo, x=\"보험료분위별\", y=\"2019 년\")"
   ]
  },
  {
   "cell_type": "code",
   "execution_count": 147,
   "metadata": {},
   "outputs": [
    {
     "data": {
      "text/html": [
       "<div>\n",
       "<style scoped>\n",
       "    .dataframe tbody tr th:only-of-type {\n",
       "        vertical-align: middle;\n",
       "    }\n",
       "\n",
       "    .dataframe tbody tr th {\n",
       "        vertical-align: top;\n",
       "    }\n",
       "\n",
       "    .dataframe thead th {\n",
       "        text-align: right;\n",
       "    }\n",
       "</style>\n",
       "<table border=\"1\" class=\"dataframe\">\n",
       "  <thead>\n",
       "    <tr style=\"text-align: right;\">\n",
       "      <th></th>\n",
       "      <th>보험료분위별</th>\n",
       "      <th>2019 년</th>\n",
       "    </tr>\n",
       "  </thead>\n",
       "  <tbody>\n",
       "    <tr>\n",
       "      <th>1337</th>\n",
       "      <td>1분위</td>\n",
       "      <td>27712</td>\n",
       "    </tr>\n",
       "    <tr>\n",
       "      <th>1352</th>\n",
       "      <td>2분위</td>\n",
       "      <td>26437</td>\n",
       "    </tr>\n",
       "    <tr>\n",
       "      <th>1367</th>\n",
       "      <td>3분위</td>\n",
       "      <td>30810</td>\n",
       "    </tr>\n",
       "    <tr>\n",
       "      <th>1382</th>\n",
       "      <td>4분위</td>\n",
       "      <td>27681</td>\n",
       "    </tr>\n",
       "    <tr>\n",
       "      <th>1397</th>\n",
       "      <td>5분위</td>\n",
       "      <td>26902</td>\n",
       "    </tr>\n",
       "    <tr>\n",
       "      <th>1412</th>\n",
       "      <td>6분위</td>\n",
       "      <td>27653</td>\n",
       "    </tr>\n",
       "    <tr>\n",
       "      <th>1427</th>\n",
       "      <td>7분위</td>\n",
       "      <td>25631</td>\n",
       "    </tr>\n",
       "    <tr>\n",
       "      <th>1442</th>\n",
       "      <td>8분위</td>\n",
       "      <td>31352</td>\n",
       "    </tr>\n",
       "    <tr>\n",
       "      <th>1457</th>\n",
       "      <td>9분위</td>\n",
       "      <td>30346</td>\n",
       "    </tr>\n",
       "    <tr>\n",
       "      <th>1472</th>\n",
       "      <td>10분위</td>\n",
       "      <td>27432</td>\n",
       "    </tr>\n",
       "  </tbody>\n",
       "</table>\n",
       "</div>"
      ],
      "text/plain": [
       "     보험료분위별  2019 년\n",
       "1337    1분위   27712\n",
       "1352    2분위   26437\n",
       "1367    3분위   30810\n",
       "1382    4분위   27681\n",
       "1397    5분위   26902\n",
       "1412    6분위   27653\n",
       "1427    7분위   25631\n",
       "1442    8분위   31352\n",
       "1457    9분위   30346\n",
       "1472   10분위   27432"
      ]
     },
     "execution_count": 147,
     "metadata": {},
     "output_type": "execute_result"
    }
   ],
   "source": [
    "df_gangbook_gunbo = df_seoul_gunbo[df_seoul_gunbo[\"시군구별\"].str.contains('강북')]\n",
    "df_gangbook_gunbo = df_gangbook_gunbo[df_gangbook_gunbo[\"가입자구분별\"].str.contains('계')]\n",
    "df_gangbook_gunbo = df_gangbook_gunbo[~df_gangbook_gunbo[\"보험료분위별\"].str.contains('계')]\n",
    "df_gangbook_gunbo = df_gangbook_gunbo[df_gangbook_gunbo[\"항목\"].str.contains('적용인구')]\n",
    "\n",
    "df_gangbook_gunbo['2019 년'] = pd.to_numeric(df_gangbook_gunbo['2019 년'])\n",
    "df_gangbook_gunbo = df_gangbook_gunbo[['보험료분위별', '2019 년']]\n",
    "\n",
    "df_gangbook_gunbo"
   ]
  },
  {
   "cell_type": "code",
   "execution_count": 185,
   "metadata": {},
   "outputs": [],
   "source": [
    "import numpy as np\n",
    "gunbo = np.array([1, 2,3,4,5,6,7,8,9,10])\n",
    "gangbook_gunbo = np.repeat(gunbo, [27712, 26437,30810,27681,26902,27653,25631,31352,30346,27432], axis=0)"
   ]
  },
  {
   "cell_type": "code",
   "execution_count": 82,
   "metadata": {},
   "outputs": [
    {
     "data": {
      "text/plain": [
       "<AxesSubplot:xlabel='보험료분위별', ylabel='2019 년'>"
      ]
     },
     "execution_count": 82,
     "metadata": {},
     "output_type": "execute_result"
    },
    {
     "data": {
      "image/png": "[encoded data removed]",
      "text/plain": [
       "<Figure size 432x288 with 1 Axes>"
      ]
     },
     "metadata": {
      "needs_background": "light"
     },
     "output_type": "display_data"
    }
   ],
   "source": [
    "import seaborn as sns\n",
    "sns.barplot(data=df_gangbook_gunbo, x=\"보험료분위별\", y=\"2019 년\")"
   ]
  },
  {
   "cell_type": "code",
   "execution_count": 148,
   "metadata": {},
   "outputs": [
    {
     "data": {
      "text/html": [
       "<div>\n",
       "<style scoped>\n",
       "    .dataframe tbody tr th:only-of-type {\n",
       "        vertical-align: middle;\n",
       "    }\n",
       "\n",
       "    .dataframe tbody tr th {\n",
       "        vertical-align: top;\n",
       "    }\n",
       "\n",
       "    .dataframe thead th {\n",
       "        text-align: right;\n",
       "    }\n",
       "</style>\n",
       "<table border=\"1\" class=\"dataframe\">\n",
       "  <thead>\n",
       "    <tr style=\"text-align: right;\">\n",
       "      <th></th>\n",
       "      <th>보험료분위별</th>\n",
       "      <th>2019 년</th>\n",
       "    </tr>\n",
       "  </thead>\n",
       "  <tbody>\n",
       "    <tr>\n",
       "      <th>1502</th>\n",
       "      <td>1분위</td>\n",
       "      <td>28657</td>\n",
       "    </tr>\n",
       "    <tr>\n",
       "      <th>1517</th>\n",
       "      <td>2분위</td>\n",
       "      <td>25508</td>\n",
       "    </tr>\n",
       "    <tr>\n",
       "      <th>1532</th>\n",
       "      <td>3분위</td>\n",
       "      <td>27741</td>\n",
       "    </tr>\n",
       "    <tr>\n",
       "      <th>1547</th>\n",
       "      <td>4분위</td>\n",
       "      <td>24593</td>\n",
       "    </tr>\n",
       "    <tr>\n",
       "      <th>1562</th>\n",
       "      <td>5분위</td>\n",
       "      <td>27897</td>\n",
       "    </tr>\n",
       "    <tr>\n",
       "      <th>1577</th>\n",
       "      <td>6분위</td>\n",
       "      <td>29943</td>\n",
       "    </tr>\n",
       "    <tr>\n",
       "      <th>1592</th>\n",
       "      <td>7분위</td>\n",
       "      <td>29106</td>\n",
       "    </tr>\n",
       "    <tr>\n",
       "      <th>1607</th>\n",
       "      <td>8분위</td>\n",
       "      <td>37964</td>\n",
       "    </tr>\n",
       "    <tr>\n",
       "      <th>1622</th>\n",
       "      <td>9분위</td>\n",
       "      <td>39587</td>\n",
       "    </tr>\n",
       "    <tr>\n",
       "      <th>1637</th>\n",
       "      <td>10분위</td>\n",
       "      <td>38651</td>\n",
       "    </tr>\n",
       "  </tbody>\n",
       "</table>\n",
       "</div>"
      ],
      "text/plain": [
       "     보험료분위별  2019 년\n",
       "1502    1분위   28657\n",
       "1517    2분위   25508\n",
       "1532    3분위   27741\n",
       "1547    4분위   24593\n",
       "1562    5분위   27897\n",
       "1577    6분위   29943\n",
       "1592    7분위   29106\n",
       "1607    8분위   37964\n",
       "1622    9분위   39587\n",
       "1637   10분위   38651"
      ]
     },
     "execution_count": 148,
     "metadata": {},
     "output_type": "execute_result"
    }
   ],
   "source": [
    "df_dobong_gunbo = df_seoul_gunbo[df_seoul_gunbo[\"시군구별\"].str.contains('도봉구')]\n",
    "df_dobong_gunbo = df_dobong_gunbo[df_dobong_gunbo[\"가입자구분별\"].str.contains('계')]\n",
    "df_dobong_gunbo = df_dobong_gunbo[~df_dobong_gunbo[\"보험료분위별\"].str.contains('계')]\n",
    "df_dobong_gunbo = df_dobong_gunbo[df_dobong_gunbo[\"항목\"].str.contains('적용인구')]\n",
    "\n",
    "df_dobong_gunbo['2019 년'] = pd.to_numeric(df_dobong_gunbo['2019 년'])\n",
    "df_dobong_gunbo = df_dobong_gunbo[['보험료분위별', '2019 년']]\n",
    "\n",
    "df_dobong_gunbo"
   ]
  },
  {
   "cell_type": "code",
   "execution_count": 186,
   "metadata": {},
   "outputs": [],
   "source": [
    "import numpy as np\n",
    "gunbo = np.array([1, 2,3,4,5,6,7,8,9,10])\n",
    "dobong_gunbo = np.repeat(gunbo, [28657, 25508,27741,24593,27897,29943,29106,37964,39587,38651], axis=0)"
   ]
  },
  {
   "cell_type": "code",
   "execution_count": 84,
   "metadata": {},
   "outputs": [
    {
     "data": {
      "text/plain": [
       "<AxesSubplot:xlabel='보험료분위별', ylabel='2019 년'>"
      ]
     },
     "execution_count": 84,
     "metadata": {},
     "output_type": "execute_result"
    },
    {
     "data": {
      "image/png": "[encoded data removed]",
      "text/plain": [
       "<Figure size 432x288 with 1 Axes>"
      ]
     },
     "metadata": {
      "needs_background": "light"
     },
     "output_type": "display_data"
    }
   ],
   "source": [
    "import seaborn as sns\n",
    "sns.barplot(data=df_dobong_gunbo, x=\"보험료분위별\", y=\"2019 년\")"
   ]
  },
  {
   "cell_type": "code",
   "execution_count": 149,
   "metadata": {},
   "outputs": [
    {
     "data": {
      "text/html": [
       "<div>\n",
       "<style scoped>\n",
       "    .dataframe tbody tr th:only-of-type {\n",
       "        vertical-align: middle;\n",
       "    }\n",
       "\n",
       "    .dataframe tbody tr th {\n",
       "        vertical-align: top;\n",
       "    }\n",
       "\n",
       "    .dataframe thead th {\n",
       "        text-align: right;\n",
       "    }\n",
       "</style>\n",
       "<table border=\"1\" class=\"dataframe\">\n",
       "  <thead>\n",
       "    <tr style=\"text-align: right;\">\n",
       "      <th></th>\n",
       "      <th>보험료분위별</th>\n",
       "      <th>2019 년</th>\n",
       "    </tr>\n",
       "  </thead>\n",
       "  <tbody>\n",
       "    <tr>\n",
       "      <th>1667</th>\n",
       "      <td>1분위</td>\n",
       "      <td>41287</td>\n",
       "    </tr>\n",
       "    <tr>\n",
       "      <th>1682</th>\n",
       "      <td>2분위</td>\n",
       "      <td>33782</td>\n",
       "    </tr>\n",
       "    <tr>\n",
       "      <th>1697</th>\n",
       "      <td>3분위</td>\n",
       "      <td>35200</td>\n",
       "    </tr>\n",
       "    <tr>\n",
       "      <th>1712</th>\n",
       "      <td>4분위</td>\n",
       "      <td>35331</td>\n",
       "    </tr>\n",
       "    <tr>\n",
       "      <th>1727</th>\n",
       "      <td>5분위</td>\n",
       "      <td>38569</td>\n",
       "    </tr>\n",
       "    <tr>\n",
       "      <th>1742</th>\n",
       "      <td>6분위</td>\n",
       "      <td>41802</td>\n",
       "    </tr>\n",
       "    <tr>\n",
       "      <th>1757</th>\n",
       "      <td>7분위</td>\n",
       "      <td>45844</td>\n",
       "    </tr>\n",
       "    <tr>\n",
       "      <th>1772</th>\n",
       "      <td>8분위</td>\n",
       "      <td>64360</td>\n",
       "    </tr>\n",
       "    <tr>\n",
       "      <th>1787</th>\n",
       "      <td>9분위</td>\n",
       "      <td>78221</td>\n",
       "    </tr>\n",
       "    <tr>\n",
       "      <th>1802</th>\n",
       "      <td>10분위</td>\n",
       "      <td>83533</td>\n",
       "    </tr>\n",
       "  </tbody>\n",
       "</table>\n",
       "</div>"
      ],
      "text/plain": [
       "     보험료분위별  2019 년\n",
       "1667    1분위   41287\n",
       "1682    2분위   33782\n",
       "1697    3분위   35200\n",
       "1712    4분위   35331\n",
       "1727    5분위   38569\n",
       "1742    6분위   41802\n",
       "1757    7분위   45844\n",
       "1772    8분위   64360\n",
       "1787    9분위   78221\n",
       "1802   10분위   83533"
      ]
     },
     "execution_count": 149,
     "metadata": {},
     "output_type": "execute_result"
    }
   ],
   "source": [
    "df_noone_gunbo = df_seoul_gunbo[df_seoul_gunbo[\"시군구별\"].str.contains('노원구')]\n",
    "df_noone_gunbo = df_noone_gunbo[df_noone_gunbo[\"가입자구분별\"].str.contains('계')]\n",
    "df_noone_gunbo = df_noone_gunbo[~df_noone_gunbo[\"보험료분위별\"].str.contains('계')]\n",
    "df_noone_gunbo = df_noone_gunbo[df_noone_gunbo[\"항목\"].str.contains('적용인구')]\n",
    "\n",
    "df_noone_gunbo['2019 년'] = pd.to_numeric(df_noone_gunbo['2019 년'])\n",
    "df_noone_gunbo = df_noone_gunbo[['보험료분위별', '2019 년']]\n",
    "\n",
    "df_noone_gunbo"
   ]
  },
  {
   "cell_type": "code",
   "execution_count": 187,
   "metadata": {},
   "outputs": [],
   "source": [
    "import numpy as np\n",
    "gunbo = np.array([1, 2,3,4,5,6,7,8,9,10])\n",
    "noone_gunbo = np.repeat(gunbo, [41287, 33782,35200,35331,38569,41802,45844,64360,78221,83533], axis=0)"
   ]
  },
  {
   "cell_type": "code",
   "execution_count": 86,
   "metadata": {},
   "outputs": [
    {
     "data": {
      "text/plain": [
       "<AxesSubplot:xlabel='보험료분위별', ylabel='2019 년'>"
      ]
     },
     "execution_count": 86,
     "metadata": {},
     "output_type": "execute_result"
    },
    {
     "data": {
      "image/png": "[encoded data removed]",
      "text/plain": [
       "<Figure size 432x288 with 1 Axes>"
      ]
     },
     "metadata": {
      "needs_background": "light"
     },
     "output_type": "display_data"
    }
   ],
   "source": [
    "import seaborn as sns\n",
    "sns.barplot(data=df_noone_gunbo, x=\"보험료분위별\", y=\"2019 년\")"
   ]
  },
  {
   "cell_type": "code",
   "execution_count": 150,
   "metadata": {},
   "outputs": [
    {
     "data": {
      "text/html": [
       "<div>\n",
       "<style scoped>\n",
       "    .dataframe tbody tr th:only-of-type {\n",
       "        vertical-align: middle;\n",
       "    }\n",
       "\n",
       "    .dataframe tbody tr th {\n",
       "        vertical-align: top;\n",
       "    }\n",
       "\n",
       "    .dataframe thead th {\n",
       "        text-align: right;\n",
       "    }\n",
       "</style>\n",
       "<table border=\"1\" class=\"dataframe\">\n",
       "  <thead>\n",
       "    <tr style=\"text-align: right;\">\n",
       "      <th></th>\n",
       "      <th>보험료분위별</th>\n",
       "      <th>2019 년</th>\n",
       "    </tr>\n",
       "  </thead>\n",
       "  <tbody>\n",
       "    <tr>\n",
       "      <th>1832</th>\n",
       "      <td>1분위</td>\n",
       "      <td>34315</td>\n",
       "    </tr>\n",
       "    <tr>\n",
       "      <th>1847</th>\n",
       "      <td>2분위</td>\n",
       "      <td>32512</td>\n",
       "    </tr>\n",
       "    <tr>\n",
       "      <th>1862</th>\n",
       "      <td>3분위</td>\n",
       "      <td>37733</td>\n",
       "    </tr>\n",
       "    <tr>\n",
       "      <th>1877</th>\n",
       "      <td>4분위</td>\n",
       "      <td>46725</td>\n",
       "    </tr>\n",
       "    <tr>\n",
       "      <th>1892</th>\n",
       "      <td>5분위</td>\n",
       "      <td>40524</td>\n",
       "    </tr>\n",
       "    <tr>\n",
       "      <th>1907</th>\n",
       "      <td>6분위</td>\n",
       "      <td>43999</td>\n",
       "    </tr>\n",
       "    <tr>\n",
       "      <th>1922</th>\n",
       "      <td>7분위</td>\n",
       "      <td>43241</td>\n",
       "    </tr>\n",
       "    <tr>\n",
       "      <th>1937</th>\n",
       "      <td>8분위</td>\n",
       "      <td>54015</td>\n",
       "    </tr>\n",
       "    <tr>\n",
       "      <th>1952</th>\n",
       "      <td>9분위</td>\n",
       "      <td>59161</td>\n",
       "    </tr>\n",
       "    <tr>\n",
       "      <th>1967</th>\n",
       "      <td>10분위</td>\n",
       "      <td>59007</td>\n",
       "    </tr>\n",
       "  </tbody>\n",
       "</table>\n",
       "</div>"
      ],
      "text/plain": [
       "     보험료분위별  2019 년\n",
       "1832    1분위   34315\n",
       "1847    2분위   32512\n",
       "1862    3분위   37733\n",
       "1877    4분위   46725\n",
       "1892    5분위   40524\n",
       "1907    6분위   43999\n",
       "1922    7분위   43241\n",
       "1937    8분위   54015\n",
       "1952    9분위   59161\n",
       "1967   10분위   59007"
      ]
     },
     "execution_count": 150,
     "metadata": {},
     "output_type": "execute_result"
    }
   ],
   "source": [
    "df_eunpyeong_gunbo = df_seoul_gunbo[df_seoul_gunbo[\"시군구별\"].str.contains('은평구')]\n",
    "df_eunpyeong_gunbo = df_eunpyeong_gunbo[df_eunpyeong_gunbo[\"가입자구분별\"].str.contains('계')]\n",
    "df_eunpyeong_gunbo = df_eunpyeong_gunbo[~df_eunpyeong_gunbo[\"보험료분위별\"].str.contains('계')]\n",
    "df_eunpyeong_gunbo = df_eunpyeong_gunbo[df_eunpyeong_gunbo[\"항목\"].str.contains('적용인구')]\n",
    "\n",
    "df_eunpyeong_gunbo['2019 년'] = pd.to_numeric(df_eunpyeong_gunbo['2019 년'])\n",
    "df_eunpyeong_gunbo = df_eunpyeong_gunbo[['보험료분위별', '2019 년']]\n",
    "\n",
    "df_eunpyeong_gunbo"
   ]
  },
  {
   "cell_type": "code",
   "execution_count": 188,
   "metadata": {},
   "outputs": [],
   "source": [
    "import numpy as np\n",
    "gunbo = np.array([1, 2,3,4,5,6,7,8,9,10])\n",
    "eunpyeong_gunbo = np.repeat(gunbo, [34315, 32512,37733,46725,40524,43999,43241,54015,59161,59007], axis=0)"
   ]
  },
  {
   "cell_type": "code",
   "execution_count": 88,
   "metadata": {},
   "outputs": [
    {
     "data": {
      "text/plain": [
       "<AxesSubplot:xlabel='보험료분위별', ylabel='2019 년'>"
      ]
     },
     "execution_count": 88,
     "metadata": {},
     "output_type": "execute_result"
    },
    {
     "data": {
      "image/png": "[encoded data removed]",
      "text/plain": [
       "<Figure size 432x288 with 1 Axes>"
      ]
     },
     "metadata": {
      "needs_background": "light"
     },
     "output_type": "display_data"
    }
   ],
   "source": [
    "import seaborn as sns\n",
    "sns.barplot(data=df_eunpyeong_gunbo, x=\"보험료분위별\", y=\"2019 년\")"
   ]
  },
  {
   "cell_type": "code",
   "execution_count": 151,
   "metadata": {},
   "outputs": [
    {
     "data": {
      "text/html": [
       "<div>\n",
       "<style scoped>\n",
       "    .dataframe tbody tr th:only-of-type {\n",
       "        vertical-align: middle;\n",
       "    }\n",
       "\n",
       "    .dataframe tbody tr th {\n",
       "        vertical-align: top;\n",
       "    }\n",
       "\n",
       "    .dataframe thead th {\n",
       "        text-align: right;\n",
       "    }\n",
       "</style>\n",
       "<table border=\"1\" class=\"dataframe\">\n",
       "  <thead>\n",
       "    <tr style=\"text-align: right;\">\n",
       "      <th></th>\n",
       "      <th>보험료분위별</th>\n",
       "      <th>2019 년</th>\n",
       "    </tr>\n",
       "  </thead>\n",
       "  <tbody>\n",
       "    <tr>\n",
       "      <th>1997</th>\n",
       "      <td>1분위</td>\n",
       "      <td>23693</td>\n",
       "    </tr>\n",
       "    <tr>\n",
       "      <th>2012</th>\n",
       "      <td>2분위</td>\n",
       "      <td>20928</td>\n",
       "    </tr>\n",
       "    <tr>\n",
       "      <th>2027</th>\n",
       "      <td>3분위</td>\n",
       "      <td>22479</td>\n",
       "    </tr>\n",
       "    <tr>\n",
       "      <th>2042</th>\n",
       "      <td>4분위</td>\n",
       "      <td>23993</td>\n",
       "    </tr>\n",
       "    <tr>\n",
       "      <th>2057</th>\n",
       "      <td>5분위</td>\n",
       "      <td>21891</td>\n",
       "    </tr>\n",
       "    <tr>\n",
       "      <th>2072</th>\n",
       "      <td>6분위</td>\n",
       "      <td>23223</td>\n",
       "    </tr>\n",
       "    <tr>\n",
       "      <th>2087</th>\n",
       "      <td>7분위</td>\n",
       "      <td>24789</td>\n",
       "    </tr>\n",
       "    <tr>\n",
       "      <th>2102</th>\n",
       "      <td>8분위</td>\n",
       "      <td>33857</td>\n",
       "    </tr>\n",
       "    <tr>\n",
       "      <th>2117</th>\n",
       "      <td>9분위</td>\n",
       "      <td>41644</td>\n",
       "    </tr>\n",
       "    <tr>\n",
       "      <th>2132</th>\n",
       "      <td>10분위</td>\n",
       "      <td>55741</td>\n",
       "    </tr>\n",
       "  </tbody>\n",
       "</table>\n",
       "</div>"
      ],
      "text/plain": [
       "     보험료분위별  2019 년\n",
       "1997    1분위   23693\n",
       "2012    2분위   20928\n",
       "2027    3분위   22479\n",
       "2042    4분위   23993\n",
       "2057    5분위   21891\n",
       "2072    6분위   23223\n",
       "2087    7분위   24789\n",
       "2102    8분위   33857\n",
       "2117    9분위   41644\n",
       "2132   10분위   55741"
      ]
     },
     "execution_count": 151,
     "metadata": {},
     "output_type": "execute_result"
    }
   ],
   "source": [
    "df_seodaemoon_gunbo = df_seoul_gunbo[df_seoul_gunbo[\"시군구별\"].str.contains('서대문구')]\n",
    "df_seodaemoon_gunbo = df_seodaemoon_gunbo[df_seodaemoon_gunbo[\"가입자구분별\"].str.contains('계')]\n",
    "df_seodaemoon_gunbo = df_seodaemoon_gunbo[~df_seodaemoon_gunbo[\"보험료분위별\"].str.contains('계')]\n",
    "df_seodaemoon_gunbo = df_seodaemoon_gunbo[df_seodaemoon_gunbo[\"항목\"].str.contains('적용인구')]\n",
    "\n",
    "df_seodaemoon_gunbo['2019 년'] = pd.to_numeric(df_seodaemoon_gunbo['2019 년'])\n",
    "df_seodaemoon_gunbo = df_seodaemoon_gunbo[['보험료분위별', '2019 년']]\n",
    "\n",
    "df_seodaemoon_gunbo"
   ]
  },
  {
   "cell_type": "code",
   "execution_count": 189,
   "metadata": {},
   "outputs": [],
   "source": [
    "import numpy as np\n",
    "gunbo = np.array([1, 2,3,4,5,6,7,8,9,10])\n",
    "seodaemoon_gunbo = np.repeat(gunbo, [23693, 20928,22479,23993,21891,23223,24789,33857,41644,55741], axis=0)"
   ]
  },
  {
   "cell_type": "code",
   "execution_count": 90,
   "metadata": {},
   "outputs": [
    {
     "data": {
      "text/plain": [
       "<AxesSubplot:xlabel='보험료분위별', ylabel='2019 년'>"
      ]
     },
     "execution_count": 90,
     "metadata": {},
     "output_type": "execute_result"
    },
    {
     "data": {
      "image/png": "[encoded data removed]",
      "text/plain": [
       "<Figure size 432x288 with 1 Axes>"
      ]
     },
     "metadata": {
      "needs_background": "light"
     },
     "output_type": "display_data"
    }
   ],
   "source": [
    "import seaborn as sns\n",
    "sns.barplot(data=df_seodaemoon_gunbo, x=\"보험료분위별\", y=\"2019 년\")"
   ]
  },
  {
   "cell_type": "code",
   "execution_count": 152,
   "metadata": {},
   "outputs": [
    {
     "data": {
      "text/html": [
       "<div>\n",
       "<style scoped>\n",
       "    .dataframe tbody tr th:only-of-type {\n",
       "        vertical-align: middle;\n",
       "    }\n",
       "\n",
       "    .dataframe tbody tr th {\n",
       "        vertical-align: top;\n",
       "    }\n",
       "\n",
       "    .dataframe thead th {\n",
       "        text-align: right;\n",
       "    }\n",
       "</style>\n",
       "<table border=\"1\" class=\"dataframe\">\n",
       "  <thead>\n",
       "    <tr style=\"text-align: right;\">\n",
       "      <th></th>\n",
       "      <th>보험료분위별</th>\n",
       "      <th>2019 년</th>\n",
       "    </tr>\n",
       "  </thead>\n",
       "  <tbody>\n",
       "    <tr>\n",
       "      <th>2162</th>\n",
       "      <td>1분위</td>\n",
       "      <td>25202</td>\n",
       "    </tr>\n",
       "    <tr>\n",
       "      <th>2177</th>\n",
       "      <td>2분위</td>\n",
       "      <td>22379</td>\n",
       "    </tr>\n",
       "    <tr>\n",
       "      <th>2192</th>\n",
       "      <td>3분위</td>\n",
       "      <td>24096</td>\n",
       "    </tr>\n",
       "    <tr>\n",
       "      <th>2207</th>\n",
       "      <td>4분위</td>\n",
       "      <td>27572</td>\n",
       "    </tr>\n",
       "    <tr>\n",
       "      <th>2222</th>\n",
       "      <td>5분위</td>\n",
       "      <td>28732</td>\n",
       "    </tr>\n",
       "    <tr>\n",
       "      <th>2237</th>\n",
       "      <td>6분위</td>\n",
       "      <td>29061</td>\n",
       "    </tr>\n",
       "    <tr>\n",
       "      <th>2252</th>\n",
       "      <td>7분위</td>\n",
       "      <td>31056</td>\n",
       "    </tr>\n",
       "    <tr>\n",
       "      <th>2267</th>\n",
       "      <td>8분위</td>\n",
       "      <td>41215</td>\n",
       "    </tr>\n",
       "    <tr>\n",
       "      <th>2282</th>\n",
       "      <td>9분위</td>\n",
       "      <td>54608</td>\n",
       "    </tr>\n",
       "    <tr>\n",
       "      <th>2297</th>\n",
       "      <td>10분위</td>\n",
       "      <td>85410</td>\n",
       "    </tr>\n",
       "  </tbody>\n",
       "</table>\n",
       "</div>"
      ],
      "text/plain": [
       "     보험료분위별  2019 년\n",
       "2162    1분위   25202\n",
       "2177    2분위   22379\n",
       "2192    3분위   24096\n",
       "2207    4분위   27572\n",
       "2222    5분위   28732\n",
       "2237    6분위   29061\n",
       "2252    7분위   31056\n",
       "2267    8분위   41215\n",
       "2282    9분위   54608\n",
       "2297   10분위   85410"
      ]
     },
     "execution_count": 152,
     "metadata": {},
     "output_type": "execute_result"
    }
   ],
   "source": [
    "df_mapo_gunbo = df_seoul_gunbo[df_seoul_gunbo[\"시군구별\"].str.contains('마포구')]\n",
    "df_mapo_gunbo = df_mapo_gunbo[df_mapo_gunbo[\"가입자구분별\"].str.contains('계')]\n",
    "df_mapo_gunbo = df_mapo_gunbo[~df_mapo_gunbo[\"보험료분위별\"].str.contains('계')]\n",
    "df_mapo_gunbo = df_mapo_gunbo[df_mapo_gunbo[\"항목\"].str.contains('적용인구')]\n",
    "\n",
    "df_mapo_gunbo['2019 년'] = pd.to_numeric(df_mapo_gunbo['2019 년'])\n",
    "df_mapo_gunbo = df_mapo_gunbo[['보험료분위별', '2019 년']]\n",
    "\n",
    "df_mapo_gunbo"
   ]
  },
  {
   "cell_type": "code",
   "execution_count": 190,
   "metadata": {},
   "outputs": [],
   "source": [
    "import numpy as np\n",
    "gunbo = np.array([1, 2,3,4,5,6,7,8,9,10])\n",
    "mapo_gunbo = np.repeat(gunbo, [25202, 22379,24096,27572,28732,29061,31056,41215,54608,85410], axis=0)"
   ]
  },
  {
   "cell_type": "code",
   "execution_count": 94,
   "metadata": {},
   "outputs": [
    {
     "data": {
      "text/plain": [
       "<AxesSubplot:xlabel='보험료분위별', ylabel='2019 년'>"
      ]
     },
     "execution_count": 94,
     "metadata": {},
     "output_type": "execute_result"
    },
    {
     "data": {
      "image/png": "[encoded data removed]",
      "text/plain": [
       "<Figure size 432x288 with 1 Axes>"
      ]
     },
     "metadata": {
      "needs_background": "light"
     },
     "output_type": "display_data"
    }
   ],
   "source": [
    "import seaborn as sns\n",
    "sns.barplot(data=df_mapo_gunbo, x=\"보험료분위별\", y=\"2019 년\")"
   ]
  },
  {
   "cell_type": "code",
   "execution_count": 153,
   "metadata": {},
   "outputs": [
    {
     "data": {
      "text/html": [
       "<div>\n",
       "<style scoped>\n",
       "    .dataframe tbody tr th:only-of-type {\n",
       "        vertical-align: middle;\n",
       "    }\n",
       "\n",
       "    .dataframe tbody tr th {\n",
       "        vertical-align: top;\n",
       "    }\n",
       "\n",
       "    .dataframe thead th {\n",
       "        text-align: right;\n",
       "    }\n",
       "</style>\n",
       "<table border=\"1\" class=\"dataframe\">\n",
       "  <thead>\n",
       "    <tr style=\"text-align: right;\">\n",
       "      <th></th>\n",
       "      <th>보험료분위별</th>\n",
       "      <th>2019 년</th>\n",
       "    </tr>\n",
       "  </thead>\n",
       "  <tbody>\n",
       "    <tr>\n",
       "      <th>2327</th>\n",
       "      <td>1분위</td>\n",
       "      <td>32776</td>\n",
       "    </tr>\n",
       "    <tr>\n",
       "      <th>2342</th>\n",
       "      <td>2분위</td>\n",
       "      <td>27488</td>\n",
       "    </tr>\n",
       "    <tr>\n",
       "      <th>2357</th>\n",
       "      <td>3분위</td>\n",
       "      <td>28466</td>\n",
       "    </tr>\n",
       "    <tr>\n",
       "      <th>2372</th>\n",
       "      <td>4분위</td>\n",
       "      <td>33000</td>\n",
       "    </tr>\n",
       "    <tr>\n",
       "      <th>2387</th>\n",
       "      <td>5분위</td>\n",
       "      <td>33823</td>\n",
       "    </tr>\n",
       "    <tr>\n",
       "      <th>2402</th>\n",
       "      <td>6분위</td>\n",
       "      <td>35241</td>\n",
       "    </tr>\n",
       "    <tr>\n",
       "      <th>2417</th>\n",
       "      <td>7분위</td>\n",
       "      <td>37327</td>\n",
       "    </tr>\n",
       "    <tr>\n",
       "      <th>2432</th>\n",
       "      <td>8분위</td>\n",
       "      <td>48828</td>\n",
       "    </tr>\n",
       "    <tr>\n",
       "      <th>2447</th>\n",
       "      <td>9분위</td>\n",
       "      <td>66313</td>\n",
       "    </tr>\n",
       "    <tr>\n",
       "      <th>2462</th>\n",
       "      <td>10분위</td>\n",
       "      <td>110679</td>\n",
       "    </tr>\n",
       "  </tbody>\n",
       "</table>\n",
       "</div>"
      ],
      "text/plain": [
       "     보험료분위별  2019 년\n",
       "2327    1분위   32776\n",
       "2342    2분위   27488\n",
       "2357    3분위   28466\n",
       "2372    4분위   33000\n",
       "2387    5분위   33823\n",
       "2402    6분위   35241\n",
       "2417    7분위   37327\n",
       "2432    8분위   48828\n",
       "2447    9분위   66313\n",
       "2462   10분위  110679"
      ]
     },
     "execution_count": 153,
     "metadata": {},
     "output_type": "execute_result"
    }
   ],
   "source": [
    "df_yangcheon_gunbo = df_seoul_gunbo[df_seoul_gunbo[\"시군구별\"].str.contains('양천구')]\n",
    "df_yangcheon_gunbo = df_yangcheon_gunbo[df_yangcheon_gunbo[\"가입자구분별\"].str.contains('계')]\n",
    "df_yangcheon_gunbo = df_yangcheon_gunbo[~df_yangcheon_gunbo[\"보험료분위별\"].str.contains('계')]\n",
    "df_yangcheon_gunbo = df_yangcheon_gunbo[df_yangcheon_gunbo[\"항목\"].str.contains('적용인구')]\n",
    "\n",
    "df_yangcheon_gunbo['2019 년'] = pd.to_numeric(df_yangcheon_gunbo['2019 년'])\n",
    "df_yangcheon_gunbo = df_yangcheon_gunbo[['보험료분위별', '2019 년']]\n",
    "\n",
    "df_yangcheon_gunbo"
   ]
  },
  {
   "cell_type": "code",
   "execution_count": 191,
   "metadata": {},
   "outputs": [],
   "source": [
    "import numpy as np\n",
    "gunbo = np.array([1, 2,3,4,5,6,7,8,9,10])\n",
    "yangcheon_gunbo = np.repeat(gunbo, [32776, 27488,28466,33000,33823,35241,37327,48828,66313,110679], axis=0)"
   ]
  },
  {
   "cell_type": "code",
   "execution_count": 96,
   "metadata": {},
   "outputs": [
    {
     "data": {
      "text/plain": [
       "<AxesSubplot:xlabel='보험료분위별', ylabel='2019 년'>"
      ]
     },
     "execution_count": 96,
     "metadata": {},
     "output_type": "execute_result"
    },
    {
     "data": {
      "image/png": "[encoded data removed]",
      "text/plain": [
       "<Figure size 432x288 with 1 Axes>"
      ]
     },
     "metadata": {
      "needs_background": "light"
     },
     "output_type": "display_data"
    }
   ],
   "source": [
    "import seaborn as sns\n",
    "sns.barplot(data=df_yangcheon_gunbo, x=\"보험료분위별\", y=\"2019 년\")"
   ]
  },
  {
   "cell_type": "code",
   "execution_count": 154,
   "metadata": {},
   "outputs": [
    {
     "data": {
      "text/html": [
       "<div>\n",
       "<style scoped>\n",
       "    .dataframe tbody tr th:only-of-type {\n",
       "        vertical-align: middle;\n",
       "    }\n",
       "\n",
       "    .dataframe tbody tr th {\n",
       "        vertical-align: top;\n",
       "    }\n",
       "\n",
       "    .dataframe thead th {\n",
       "        text-align: right;\n",
       "    }\n",
       "</style>\n",
       "<table border=\"1\" class=\"dataframe\">\n",
       "  <thead>\n",
       "    <tr style=\"text-align: right;\">\n",
       "      <th></th>\n",
       "      <th>보험료분위별</th>\n",
       "      <th>2019 년</th>\n",
       "    </tr>\n",
       "  </thead>\n",
       "  <tbody>\n",
       "    <tr>\n",
       "      <th>2492</th>\n",
       "      <td>1분위</td>\n",
       "      <td>42958</td>\n",
       "    </tr>\n",
       "    <tr>\n",
       "      <th>2507</th>\n",
       "      <td>2분위</td>\n",
       "      <td>37610</td>\n",
       "    </tr>\n",
       "    <tr>\n",
       "      <th>2522</th>\n",
       "      <td>3분위</td>\n",
       "      <td>42604</td>\n",
       "    </tr>\n",
       "    <tr>\n",
       "      <th>2537</th>\n",
       "      <td>4분위</td>\n",
       "      <td>51879</td>\n",
       "    </tr>\n",
       "    <tr>\n",
       "      <th>2552</th>\n",
       "      <td>5분위</td>\n",
       "      <td>50834</td>\n",
       "    </tr>\n",
       "    <tr>\n",
       "      <th>2567</th>\n",
       "      <td>6분위</td>\n",
       "      <td>55174</td>\n",
       "    </tr>\n",
       "    <tr>\n",
       "      <th>2582</th>\n",
       "      <td>7분위</td>\n",
       "      <td>57378</td>\n",
       "    </tr>\n",
       "    <tr>\n",
       "      <th>2597</th>\n",
       "      <td>8분위</td>\n",
       "      <td>71519</td>\n",
       "    </tr>\n",
       "    <tr>\n",
       "      <th>2612</th>\n",
       "      <td>9분위</td>\n",
       "      <td>80543</td>\n",
       "    </tr>\n",
       "    <tr>\n",
       "      <th>2627</th>\n",
       "      <td>10분위</td>\n",
       "      <td>88422</td>\n",
       "    </tr>\n",
       "  </tbody>\n",
       "</table>\n",
       "</div>"
      ],
      "text/plain": [
       "     보험료분위별  2019 년\n",
       "2492    1분위   42958\n",
       "2507    2분위   37610\n",
       "2522    3분위   42604\n",
       "2537    4분위   51879\n",
       "2552    5분위   50834\n",
       "2567    6분위   55174\n",
       "2582    7분위   57378\n",
       "2597    8분위   71519\n",
       "2612    9분위   80543\n",
       "2627   10분위   88422"
      ]
     },
     "execution_count": 154,
     "metadata": {},
     "output_type": "execute_result"
    }
   ],
   "source": [
    "df_gangseo_gunbo = df_seoul_gunbo[df_seoul_gunbo[\"시군구별\"].str.contains('강서구')]\n",
    "df_gangseo_gunbo = df_gangseo_gunbo[df_gangseo_gunbo[\"가입자구분별\"].str.contains('계')]\n",
    "df_gangseo_gunbo = df_gangseo_gunbo[~df_gangseo_gunbo[\"보험료분위별\"].str.contains('계')]\n",
    "df_gangseo_gunbo = df_gangseo_gunbo[df_gangseo_gunbo[\"항목\"].str.contains('적용인구')]\n",
    "\n",
    "df_gangseo_gunbo['2019 년'] = pd.to_numeric(df_gangseo_gunbo['2019 년'])\n",
    "df_gangseo_gunbo = df_gangseo_gunbo[['보험료분위별', '2019 년']]\n",
    "\n",
    "df_gangseo_gunbo"
   ]
  },
  {
   "cell_type": "code",
   "execution_count": 192,
   "metadata": {},
   "outputs": [],
   "source": [
    "import numpy as np\n",
    "gunbo = np.array([1, 2,3,4,5,6,7,8,9,10])\n",
    "gangseo_gunbo = np.repeat(gunbo, [42958, 37610,42604,51879,50834,55174,57378,71519,80543,88422], axis=0)"
   ]
  },
  {
   "cell_type": "code",
   "execution_count": 98,
   "metadata": {},
   "outputs": [
    {
     "data": {
      "text/plain": [
       "<AxesSubplot:xlabel='보험료분위별', ylabel='2019 년'>"
      ]
     },
     "execution_count": 98,
     "metadata": {},
     "output_type": "execute_result"
    },
    {
     "data": {
      "image/png": "[encoded data removed]",
      "text/plain": [
       "<Figure size 432x288 with 1 Axes>"
      ]
     },
     "metadata": {
      "needs_background": "light"
     },
     "output_type": "display_data"
    }
   ],
   "source": [
    "import seaborn as sns\n",
    "sns.barplot(data=df_gangseo_gunbo, x=\"보험료분위별\", y=\"2019 년\")"
   ]
  },
  {
   "cell_type": "code",
   "execution_count": 155,
   "metadata": {},
   "outputs": [
    {
     "data": {
      "text/html": [
       "<div>\n",
       "<style scoped>\n",
       "    .dataframe tbody tr th:only-of-type {\n",
       "        vertical-align: middle;\n",
       "    }\n",
       "\n",
       "    .dataframe tbody tr th {\n",
       "        vertical-align: top;\n",
       "    }\n",
       "\n",
       "    .dataframe thead th {\n",
       "        text-align: right;\n",
       "    }\n",
       "</style>\n",
       "<table border=\"1\" class=\"dataframe\">\n",
       "  <thead>\n",
       "    <tr style=\"text-align: right;\">\n",
       "      <th></th>\n",
       "      <th>보험료분위별</th>\n",
       "      <th>2019 년</th>\n",
       "    </tr>\n",
       "  </thead>\n",
       "  <tbody>\n",
       "    <tr>\n",
       "      <th>2657</th>\n",
       "      <td>1분위</td>\n",
       "      <td>29807</td>\n",
       "    </tr>\n",
       "    <tr>\n",
       "      <th>2672</th>\n",
       "      <td>2분위</td>\n",
       "      <td>28702</td>\n",
       "    </tr>\n",
       "    <tr>\n",
       "      <th>2687</th>\n",
       "      <td>3분위</td>\n",
       "      <td>32621</td>\n",
       "    </tr>\n",
       "    <tr>\n",
       "      <th>2702</th>\n",
       "      <td>4분위</td>\n",
       "      <td>39534</td>\n",
       "    </tr>\n",
       "    <tr>\n",
       "      <th>2717</th>\n",
       "      <td>5분위</td>\n",
       "      <td>35333</td>\n",
       "    </tr>\n",
       "    <tr>\n",
       "      <th>2732</th>\n",
       "      <td>6분위</td>\n",
       "      <td>37750</td>\n",
       "    </tr>\n",
       "    <tr>\n",
       "      <th>2747</th>\n",
       "      <td>7분위</td>\n",
       "      <td>61947</td>\n",
       "    </tr>\n",
       "    <tr>\n",
       "      <th>2762</th>\n",
       "      <td>8분위</td>\n",
       "      <td>51959</td>\n",
       "    </tr>\n",
       "    <tr>\n",
       "      <th>2777</th>\n",
       "      <td>9분위</td>\n",
       "      <td>54606</td>\n",
       "    </tr>\n",
       "    <tr>\n",
       "      <th>2792</th>\n",
       "      <td>10분위</td>\n",
       "      <td>53515</td>\n",
       "    </tr>\n",
       "  </tbody>\n",
       "</table>\n",
       "</div>"
      ],
      "text/plain": [
       "     보험료분위별  2019 년\n",
       "2657    1분위   29807\n",
       "2672    2분위   28702\n",
       "2687    3분위   32621\n",
       "2702    4분위   39534\n",
       "2717    5분위   35333\n",
       "2732    6분위   37750\n",
       "2747    7분위   61947\n",
       "2762    8분위   51959\n",
       "2777    9분위   54606\n",
       "2792   10분위   53515"
      ]
     },
     "execution_count": 155,
     "metadata": {},
     "output_type": "execute_result"
    }
   ],
   "source": [
    "df_guro_gunbo = df_seoul_gunbo[df_seoul_gunbo[\"시군구별\"].str.contains('구로구')]\n",
    "df_guro_gunbo = df_guro_gunbo[df_guro_gunbo[\"가입자구분별\"].str.contains('계')]\n",
    "df_guro_gunbo = df_guro_gunbo[~df_guro_gunbo[\"보험료분위별\"].str.contains('계')]\n",
    "df_guro_gunbo = df_guro_gunbo[df_guro_gunbo[\"항목\"].str.contains('적용인구')]\n",
    "\n",
    "df_guro_gunbo['2019 년'] = pd.to_numeric(df_guro_gunbo['2019 년'])\n",
    "df_guro_gunbo = df_guro_gunbo[['보험료분위별', '2019 년']]\n",
    "\n",
    "df_guro_gunbo"
   ]
  },
  {
   "cell_type": "code",
   "execution_count": 193,
   "metadata": {},
   "outputs": [],
   "source": [
    "import numpy as np\n",
    "gunbo = np.array([1, 2,3,4,5,6,7,8,9,10])\n",
    "guro_gunbo = np.repeat(gunbo, [29807, 28702,32621,39534,35333,37750,61947,51959,54606,53515], axis=0)"
   ]
  },
  {
   "cell_type": "code",
   "execution_count": 100,
   "metadata": {},
   "outputs": [
    {
     "data": {
      "text/plain": [
       "<AxesSubplot:xlabel='보험료분위별', ylabel='2019 년'>"
      ]
     },
     "execution_count": 100,
     "metadata": {},
     "output_type": "execute_result"
    },
    {
     "data": {
      "image/png": "[encoded data removed]",
      "text/plain": [
       "<Figure size 432x288 with 1 Axes>"
      ]
     },
     "metadata": {
      "needs_background": "light"
     },
     "output_type": "display_data"
    }
   ],
   "source": [
    "import seaborn as sns\n",
    "sns.barplot(data=df_guro_gunbo, x=\"보험료분위별\", y=\"2019 년\")"
   ]
  },
  {
   "cell_type": "code",
   "execution_count": 156,
   "metadata": {},
   "outputs": [
    {
     "data": {
      "text/html": [
       "<div>\n",
       "<style scoped>\n",
       "    .dataframe tbody tr th:only-of-type {\n",
       "        vertical-align: middle;\n",
       "    }\n",
       "\n",
       "    .dataframe tbody tr th {\n",
       "        vertical-align: top;\n",
       "    }\n",
       "\n",
       "    .dataframe thead th {\n",
       "        text-align: right;\n",
       "    }\n",
       "</style>\n",
       "<table border=\"1\" class=\"dataframe\">\n",
       "  <thead>\n",
       "    <tr style=\"text-align: right;\">\n",
       "      <th></th>\n",
       "      <th>보험료분위별</th>\n",
       "      <th>2019 년</th>\n",
       "    </tr>\n",
       "  </thead>\n",
       "  <tbody>\n",
       "    <tr>\n",
       "      <th>2822</th>\n",
       "      <td>1분위</td>\n",
       "      <td>18754</td>\n",
       "    </tr>\n",
       "    <tr>\n",
       "      <th>2837</th>\n",
       "      <td>2분위</td>\n",
       "      <td>20401</td>\n",
       "    </tr>\n",
       "    <tr>\n",
       "      <th>2852</th>\n",
       "      <td>3분위</td>\n",
       "      <td>23106</td>\n",
       "    </tr>\n",
       "    <tr>\n",
       "      <th>2867</th>\n",
       "      <td>4분위</td>\n",
       "      <td>22768</td>\n",
       "    </tr>\n",
       "    <tr>\n",
       "      <th>2882</th>\n",
       "      <td>5분위</td>\n",
       "      <td>21880</td>\n",
       "    </tr>\n",
       "    <tr>\n",
       "      <th>2897</th>\n",
       "      <td>6분위</td>\n",
       "      <td>23675</td>\n",
       "    </tr>\n",
       "    <tr>\n",
       "      <th>2912</th>\n",
       "      <td>7분위</td>\n",
       "      <td>36869</td>\n",
       "    </tr>\n",
       "    <tr>\n",
       "      <th>2927</th>\n",
       "      <td>8분위</td>\n",
       "      <td>27042</td>\n",
       "    </tr>\n",
       "    <tr>\n",
       "      <th>2942</th>\n",
       "      <td>9분위</td>\n",
       "      <td>24272</td>\n",
       "    </tr>\n",
       "    <tr>\n",
       "      <th>2957</th>\n",
       "      <td>10분위</td>\n",
       "      <td>21570</td>\n",
       "    </tr>\n",
       "  </tbody>\n",
       "</table>\n",
       "</div>"
      ],
      "text/plain": [
       "     보험료분위별  2019 년\n",
       "2822    1분위   18754\n",
       "2837    2분위   20401\n",
       "2852    3분위   23106\n",
       "2867    4분위   22768\n",
       "2882    5분위   21880\n",
       "2897    6분위   23675\n",
       "2912    7분위   36869\n",
       "2927    8분위   27042\n",
       "2942    9분위   24272\n",
       "2957   10분위   21570"
      ]
     },
     "execution_count": 156,
     "metadata": {},
     "output_type": "execute_result"
    }
   ],
   "source": [
    "df_gemcheon_gunbo = df_seoul_gunbo[df_seoul_gunbo[\"시군구별\"].str.contains('금천구')]\n",
    "df_gemcheon_gunbo = df_gemcheon_gunbo[df_gemcheon_gunbo[\"가입자구분별\"].str.contains('계')]\n",
    "df_gemcheon_gunbo = df_gemcheon_gunbo[~df_gemcheon_gunbo[\"보험료분위별\"].str.contains('계')]\n",
    "df_gemcheon_gunbo = df_gemcheon_gunbo[df_gemcheon_gunbo[\"항목\"].str.contains('적용인구')]\n",
    "\n",
    "df_gemcheon_gunbo['2019 년'] = pd.to_numeric(df_gemcheon_gunbo['2019 년'])\n",
    "df_gemcheon_gunbo = df_gemcheon_gunbo[['보험료분위별', '2019 년']]\n",
    "\n",
    "df_gemcheon_gunbo"
   ]
  },
  {
   "cell_type": "code",
   "execution_count": 194,
   "metadata": {},
   "outputs": [],
   "source": [
    "import numpy as np\n",
    "gunbo = np.array([1, 2,3,4,5,6,7,8,9,10])\n",
    "gemcheon_gunbo = np.repeat(gunbo, [18754, 20401,23106,22768,21880,23675,36869,27042,24272,21570], axis=0)"
   ]
  },
  {
   "cell_type": "code",
   "execution_count": 102,
   "metadata": {},
   "outputs": [
    {
     "data": {
      "text/plain": [
       "<AxesSubplot:xlabel='보험료분위별', ylabel='2019 년'>"
      ]
     },
     "execution_count": 102,
     "metadata": {},
     "output_type": "execute_result"
    },
    {
     "data": {
      "image/png": "[encoded data removed]",
      "text/plain": [
       "<Figure size 432x288 with 1 Axes>"
      ]
     },
     "metadata": {
      "needs_background": "light"
     },
     "output_type": "display_data"
    }
   ],
   "source": [
    "import seaborn as sns\n",
    "sns.barplot(data=df_gemcheon_gunbo, x=\"보험료분위별\", y=\"2019 년\")"
   ]
  },
  {
   "cell_type": "code",
   "execution_count": 157,
   "metadata": {},
   "outputs": [
    {
     "data": {
      "text/html": [
       "<div>\n",
       "<style scoped>\n",
       "    .dataframe tbody tr th:only-of-type {\n",
       "        vertical-align: middle;\n",
       "    }\n",
       "\n",
       "    .dataframe tbody tr th {\n",
       "        vertical-align: top;\n",
       "    }\n",
       "\n",
       "    .dataframe thead th {\n",
       "        text-align: right;\n",
       "    }\n",
       "</style>\n",
       "<table border=\"1\" class=\"dataframe\">\n",
       "  <thead>\n",
       "    <tr style=\"text-align: right;\">\n",
       "      <th></th>\n",
       "      <th>보험료분위별</th>\n",
       "      <th>2019 년</th>\n",
       "    </tr>\n",
       "  </thead>\n",
       "  <tbody>\n",
       "    <tr>\n",
       "      <th>2987</th>\n",
       "      <td>1분위</td>\n",
       "      <td>24020</td>\n",
       "    </tr>\n",
       "    <tr>\n",
       "      <th>3002</th>\n",
       "      <td>2분위</td>\n",
       "      <td>21762</td>\n",
       "    </tr>\n",
       "    <tr>\n",
       "      <th>3017</th>\n",
       "      <td>3분위</td>\n",
       "      <td>25437</td>\n",
       "    </tr>\n",
       "    <tr>\n",
       "      <th>3032</th>\n",
       "      <td>4분위</td>\n",
       "      <td>34147</td>\n",
       "    </tr>\n",
       "    <tr>\n",
       "      <th>3047</th>\n",
       "      <td>5분위</td>\n",
       "      <td>30461</td>\n",
       "    </tr>\n",
       "    <tr>\n",
       "      <th>3062</th>\n",
       "      <td>6분위</td>\n",
       "      <td>30110</td>\n",
       "    </tr>\n",
       "    <tr>\n",
       "      <th>3077</th>\n",
       "      <td>7분위</td>\n",
       "      <td>55695</td>\n",
       "    </tr>\n",
       "    <tr>\n",
       "      <th>3092</th>\n",
       "      <td>8분위</td>\n",
       "      <td>44614</td>\n",
       "    </tr>\n",
       "    <tr>\n",
       "      <th>3107</th>\n",
       "      <td>9분위</td>\n",
       "      <td>54877</td>\n",
       "    </tr>\n",
       "    <tr>\n",
       "      <th>3122</th>\n",
       "      <td>10분위</td>\n",
       "      <td>75182</td>\n",
       "    </tr>\n",
       "  </tbody>\n",
       "</table>\n",
       "</div>"
      ],
      "text/plain": [
       "     보험료분위별  2019 년\n",
       "2987    1분위   24020\n",
       "3002    2분위   21762\n",
       "3017    3분위   25437\n",
       "3032    4분위   34147\n",
       "3047    5분위   30461\n",
       "3062    6분위   30110\n",
       "3077    7분위   55695\n",
       "3092    8분위   44614\n",
       "3107    9분위   54877\n",
       "3122   10분위   75182"
      ]
     },
     "execution_count": 157,
     "metadata": {},
     "output_type": "execute_result"
    }
   ],
   "source": [
    "df_youngdeung_gunbo = df_seoul_gunbo[df_seoul_gunbo[\"시군구별\"].str.contains('영등포구')]\n",
    "df_youngdeung_gunbo = df_youngdeung_gunbo[df_youngdeung_gunbo[\"가입자구분별\"].str.contains('계')]\n",
    "df_youngdeung_gunbo = df_youngdeung_gunbo[~df_youngdeung_gunbo[\"보험료분위별\"].str.contains('계')]\n",
    "df_youngdeung_gunbo = df_youngdeung_gunbo[df_youngdeung_gunbo[\"항목\"].str.contains('적용인구')]\n",
    "\n",
    "df_youngdeung_gunbo['2019 년'] = pd.to_numeric(df_youngdeung_gunbo['2019 년'])\n",
    "df_youngdeung_gunbo = df_youngdeung_gunbo[['보험료분위별', '2019 년']]\n",
    "\n",
    "df_youngdeung_gunbo"
   ]
  },
  {
   "cell_type": "code",
   "execution_count": 195,
   "metadata": {},
   "outputs": [],
   "source": [
    "import numpy as np\n",
    "gunbo = np.array([1, 2,3,4,5,6,7,8,9,10])\n",
    "youngdeung_gunbo = np.repeat(gunbo, [24020, 21762,25437,34147,30461,30110,55695,44614,54877,75182], axis=0)"
   ]
  },
  {
   "cell_type": "code",
   "execution_count": 104,
   "metadata": {},
   "outputs": [
    {
     "data": {
      "text/plain": [
       "<AxesSubplot:xlabel='보험료분위별', ylabel='2019 년'>"
      ]
     },
     "execution_count": 104,
     "metadata": {},
     "output_type": "execute_result"
    },
    {
     "data": {
      "image/png": "[encoded data removed]",
      "text/plain": [
       "<Figure size 432x288 with 1 Axes>"
      ]
     },
     "metadata": {
      "needs_background": "light"
     },
     "output_type": "display_data"
    }
   ],
   "source": [
    "import seaborn as sns\n",
    "sns.barplot(data=df_youngdeung_gunbo, x=\"보험료분위별\", y=\"2019 년\")"
   ]
  },
  {
   "cell_type": "code",
   "execution_count": 158,
   "metadata": {},
   "outputs": [
    {
     "data": {
      "text/html": [
       "<div>\n",
       "<style scoped>\n",
       "    .dataframe tbody tr th:only-of-type {\n",
       "        vertical-align: middle;\n",
       "    }\n",
       "\n",
       "    .dataframe tbody tr th {\n",
       "        vertical-align: top;\n",
       "    }\n",
       "\n",
       "    .dataframe thead th {\n",
       "        text-align: right;\n",
       "    }\n",
       "</style>\n",
       "<table border=\"1\" class=\"dataframe\">\n",
       "  <thead>\n",
       "    <tr style=\"text-align: right;\">\n",
       "      <th></th>\n",
       "      <th>보험료분위별</th>\n",
       "      <th>2019 년</th>\n",
       "    </tr>\n",
       "  </thead>\n",
       "  <tbody>\n",
       "    <tr>\n",
       "      <th>3152</th>\n",
       "      <td>1분위</td>\n",
       "      <td>28343</td>\n",
       "    </tr>\n",
       "    <tr>\n",
       "      <th>3167</th>\n",
       "      <td>2분위</td>\n",
       "      <td>25748</td>\n",
       "    </tr>\n",
       "    <tr>\n",
       "      <th>3182</th>\n",
       "      <td>3분위</td>\n",
       "      <td>28138</td>\n",
       "    </tr>\n",
       "    <tr>\n",
       "      <th>3197</th>\n",
       "      <td>4분위</td>\n",
       "      <td>30972</td>\n",
       "    </tr>\n",
       "    <tr>\n",
       "      <th>3212</th>\n",
       "      <td>5분위</td>\n",
       "      <td>28829</td>\n",
       "    </tr>\n",
       "    <tr>\n",
       "      <th>3227</th>\n",
       "      <td>6분위</td>\n",
       "      <td>30304</td>\n",
       "    </tr>\n",
       "    <tr>\n",
       "      <th>3242</th>\n",
       "      <td>7분위</td>\n",
       "      <td>37146</td>\n",
       "    </tr>\n",
       "    <tr>\n",
       "      <th>3257</th>\n",
       "      <td>8분위</td>\n",
       "      <td>43857</td>\n",
       "    </tr>\n",
       "    <tr>\n",
       "      <th>3272</th>\n",
       "      <td>9분위</td>\n",
       "      <td>54545</td>\n",
       "    </tr>\n",
       "    <tr>\n",
       "      <th>3287</th>\n",
       "      <td>10분위</td>\n",
       "      <td>75382</td>\n",
       "    </tr>\n",
       "  </tbody>\n",
       "</table>\n",
       "</div>"
      ],
      "text/plain": [
       "     보험료분위별  2019 년\n",
       "3152    1분위   28343\n",
       "3167    2분위   25748\n",
       "3182    3분위   28138\n",
       "3197    4분위   30972\n",
       "3212    5분위   28829\n",
       "3227    6분위   30304\n",
       "3242    7분위   37146\n",
       "3257    8분위   43857\n",
       "3272    9분위   54545\n",
       "3287   10분위   75382"
      ]
     },
     "execution_count": 158,
     "metadata": {},
     "output_type": "execute_result"
    }
   ],
   "source": [
    "df_dongjak_gunbo = df_seoul_gunbo[df_seoul_gunbo[\"시군구별\"].str.contains('동작구')]\n",
    "df_dongjak_gunbo = df_dongjak_gunbo[df_dongjak_gunbo[\"가입자구분별\"].str.contains('계')]\n",
    "df_dongjak_gunbo = df_dongjak_gunbo[~df_dongjak_gunbo[\"보험료분위별\"].str.contains('계')]\n",
    "df_dongjak_gunbo = df_dongjak_gunbo[df_dongjak_gunbo[\"항목\"].str.contains('적용인구')]\n",
    "\n",
    "df_dongjak_gunbo['2019 년'] = pd.to_numeric(df_dongjak_gunbo['2019 년'])\n",
    "df_dongjak_gunbo = df_dongjak_gunbo[['보험료분위별', '2019 년']]\n",
    "\n",
    "df_dongjak_gunbo"
   ]
  },
  {
   "cell_type": "code",
   "execution_count": 196,
   "metadata": {},
   "outputs": [],
   "source": [
    "import numpy as np\n",
    "gunbo = np.array([1, 2,3,4,5,6,7,8,9,10])\n",
    "dongjak_gunbo = np.repeat(gunbo, [28343, 25748,28138,30972,28829,30304,37146,43857,54545,75382], axis=0)"
   ]
  },
  {
   "cell_type": "code",
   "execution_count": 106,
   "metadata": {},
   "outputs": [
    {
     "data": {
      "text/plain": [
       "<AxesSubplot:xlabel='보험료분위별', ylabel='2019 년'>"
      ]
     },
     "execution_count": 106,
     "metadata": {},
     "output_type": "execute_result"
    },
    {
     "data": {
      "image/png": "[encoded data removed]",
      "text/plain": [
       "<Figure size 432x288 with 1 Axes>"
      ]
     },
     "metadata": {
      "needs_background": "light"
     },
     "output_type": "display_data"
    }
   ],
   "source": [
    "import seaborn as sns\n",
    "sns.barplot(data=df_dongjak_gunbo, x=\"보험료분위별\", y=\"2019 년\")"
   ]
  },
  {
   "cell_type": "code",
   "execution_count": 159,
   "metadata": {},
   "outputs": [
    {
     "data": {
      "text/html": [
       "<div>\n",
       "<style scoped>\n",
       "    .dataframe tbody tr th:only-of-type {\n",
       "        vertical-align: middle;\n",
       "    }\n",
       "\n",
       "    .dataframe tbody tr th {\n",
       "        vertical-align: top;\n",
       "    }\n",
       "\n",
       "    .dataframe thead th {\n",
       "        text-align: right;\n",
       "    }\n",
       "</style>\n",
       "<table border=\"1\" class=\"dataframe\">\n",
       "  <thead>\n",
       "    <tr style=\"text-align: right;\">\n",
       "      <th></th>\n",
       "      <th>보험료분위별</th>\n",
       "      <th>2019 년</th>\n",
       "    </tr>\n",
       "  </thead>\n",
       "  <tbody>\n",
       "    <tr>\n",
       "      <th>3317</th>\n",
       "      <td>1분위</td>\n",
       "      <td>33823</td>\n",
       "    </tr>\n",
       "    <tr>\n",
       "      <th>3332</th>\n",
       "      <td>2분위</td>\n",
       "      <td>34728</td>\n",
       "    </tr>\n",
       "    <tr>\n",
       "      <th>3347</th>\n",
       "      <td>3분위</td>\n",
       "      <td>46581</td>\n",
       "    </tr>\n",
       "    <tr>\n",
       "      <th>3362</th>\n",
       "      <td>4분위</td>\n",
       "      <td>56460</td>\n",
       "    </tr>\n",
       "    <tr>\n",
       "      <th>3377</th>\n",
       "      <td>5분위</td>\n",
       "      <td>48196</td>\n",
       "    </tr>\n",
       "    <tr>\n",
       "      <th>3392</th>\n",
       "      <td>6분위</td>\n",
       "      <td>46078</td>\n",
       "    </tr>\n",
       "    <tr>\n",
       "      <th>3407</th>\n",
       "      <td>7분위</td>\n",
       "      <td>52650</td>\n",
       "    </tr>\n",
       "    <tr>\n",
       "      <th>3422</th>\n",
       "      <td>8분위</td>\n",
       "      <td>51795</td>\n",
       "    </tr>\n",
       "    <tr>\n",
       "      <th>3437</th>\n",
       "      <td>9분위</td>\n",
       "      <td>52006</td>\n",
       "    </tr>\n",
       "    <tr>\n",
       "      <th>3452</th>\n",
       "      <td>10분위</td>\n",
       "      <td>54118</td>\n",
       "    </tr>\n",
       "  </tbody>\n",
       "</table>\n",
       "</div>"
      ],
      "text/plain": [
       "     보험료분위별  2019 년\n",
       "3317    1분위   33823\n",
       "3332    2분위   34728\n",
       "3347    3분위   46581\n",
       "3362    4분위   56460\n",
       "3377    5분위   48196\n",
       "3392    6분위   46078\n",
       "3407    7분위   52650\n",
       "3422    8분위   51795\n",
       "3437    9분위   52006\n",
       "3452   10분위   54118"
      ]
     },
     "execution_count": 159,
     "metadata": {},
     "output_type": "execute_result"
    }
   ],
   "source": [
    "df_gwanak_gunbo = df_seoul_gunbo[df_seoul_gunbo[\"시군구별\"].str.contains('관악구')]\n",
    "df_gwanak_gunbo = df_gwanak_gunbo[df_gwanak_gunbo[\"가입자구분별\"].str.contains('계')]\n",
    "df_gwanak_gunbo = df_gwanak_gunbo[~df_gwanak_gunbo[\"보험료분위별\"].str.contains('계')]\n",
    "df_gwanak_gunbo = df_gwanak_gunbo[df_gwanak_gunbo[\"항목\"].str.contains('적용인구')]\n",
    "\n",
    "df_gwanak_gunbo['2019 년'] = pd.to_numeric(df_gwanak_gunbo['2019 년'])\n",
    "df_gwanak_gunbo = df_gwanak_gunbo[['보험료분위별', '2019 년']]\n",
    "\n",
    "df_gwanak_gunbo"
   ]
  },
  {
   "cell_type": "code",
   "execution_count": 197,
   "metadata": {},
   "outputs": [],
   "source": [
    "import numpy as np\n",
    "gunbo = np.array([1, 2,3,4,5,6,7,8,9,10])\n",
    "gwanak_gunbo = np.repeat(gunbo, [33823, 34728,46581,56460,48196,46078,52650,51795,52006,54118], axis=0)"
   ]
  },
  {
   "cell_type": "code",
   "execution_count": 108,
   "metadata": {},
   "outputs": [
    {
     "data": {
      "text/plain": [
       "<AxesSubplot:xlabel='보험료분위별', ylabel='2019 년'>"
      ]
     },
     "execution_count": 108,
     "metadata": {},
     "output_type": "execute_result"
    },
    {
     "data": {
      "image/png": "[encoded data removed]",
      "text/plain": [
       "<Figure size 432x288 with 1 Axes>"
      ]
     },
     "metadata": {
      "needs_background": "light"
     },
     "output_type": "display_data"
    }
   ],
   "source": [
    "import seaborn as sns\n",
    "sns.barplot(data=df_gwanak_gunbo, x=\"보험료분위별\", y=\"2019 년\")"
   ]
  },
  {
   "cell_type": "code",
   "execution_count": 160,
   "metadata": {},
   "outputs": [
    {
     "data": {
      "text/html": [
       "<div>\n",
       "<style scoped>\n",
       "    .dataframe tbody tr th:only-of-type {\n",
       "        vertical-align: middle;\n",
       "    }\n",
       "\n",
       "    .dataframe tbody tr th {\n",
       "        vertical-align: top;\n",
       "    }\n",
       "\n",
       "    .dataframe thead th {\n",
       "        text-align: right;\n",
       "    }\n",
       "</style>\n",
       "<table border=\"1\" class=\"dataframe\">\n",
       "  <thead>\n",
       "    <tr style=\"text-align: right;\">\n",
       "      <th></th>\n",
       "      <th>보험료분위별</th>\n",
       "      <th>2019 년</th>\n",
       "    </tr>\n",
       "  </thead>\n",
       "  <tbody>\n",
       "    <tr>\n",
       "      <th>3482</th>\n",
       "      <td>1분위</td>\n",
       "      <td>28199</td>\n",
       "    </tr>\n",
       "    <tr>\n",
       "      <th>3497</th>\n",
       "      <td>2분위</td>\n",
       "      <td>19624</td>\n",
       "    </tr>\n",
       "    <tr>\n",
       "      <th>3512</th>\n",
       "      <td>3분위</td>\n",
       "      <td>19623</td>\n",
       "    </tr>\n",
       "    <tr>\n",
       "      <th>3527</th>\n",
       "      <td>4분위</td>\n",
       "      <td>24993</td>\n",
       "    </tr>\n",
       "    <tr>\n",
       "      <th>3542</th>\n",
       "      <td>5분위</td>\n",
       "      <td>24833</td>\n",
       "    </tr>\n",
       "    <tr>\n",
       "      <th>3557</th>\n",
       "      <td>6분위</td>\n",
       "      <td>26820</td>\n",
       "    </tr>\n",
       "    <tr>\n",
       "      <th>3572</th>\n",
       "      <td>7분위</td>\n",
       "      <td>29518</td>\n",
       "    </tr>\n",
       "    <tr>\n",
       "      <th>3587</th>\n",
       "      <td>8분위</td>\n",
       "      <td>40967</td>\n",
       "    </tr>\n",
       "    <tr>\n",
       "      <th>3602</th>\n",
       "      <td>9분위</td>\n",
       "      <td>65014</td>\n",
       "    </tr>\n",
       "    <tr>\n",
       "      <th>3617</th>\n",
       "      <td>10분위</td>\n",
       "      <td>166641</td>\n",
       "    </tr>\n",
       "  </tbody>\n",
       "</table>\n",
       "</div>"
      ],
      "text/plain": [
       "     보험료분위별  2019 년\n",
       "3482    1분위   28199\n",
       "3497    2분위   19624\n",
       "3512    3분위   19623\n",
       "3527    4분위   24993\n",
       "3542    5분위   24833\n",
       "3557    6분위   26820\n",
       "3572    7분위   29518\n",
       "3587    8분위   40967\n",
       "3602    9분위   65014\n",
       "3617   10분위  166641"
      ]
     },
     "execution_count": 160,
     "metadata": {},
     "output_type": "execute_result"
    }
   ],
   "source": [
    "df_seocho_gunbo = df_seoul_gunbo[df_seoul_gunbo[\"시군구별\"].str.contains('서초구')]\n",
    "df_seocho_gunbo = df_seocho_gunbo[df_seocho_gunbo[\"가입자구분별\"].str.contains('계')]\n",
    "df_seocho_gunbo = df_seocho_gunbo[~df_seocho_gunbo[\"보험료분위별\"].str.contains('계')]\n",
    "df_seocho_gunbo = df_seocho_gunbo[df_seocho_gunbo[\"항목\"].str.contains('적용인구')]\n",
    "\n",
    "df_seocho_gunbo['2019 년'] = pd.to_numeric(df_seocho_gunbo['2019 년'])\n",
    "df_seocho_gunbo = df_seocho_gunbo[['보험료분위별', '2019 년']]\n",
    "\n",
    "df_seocho_gunbo"
   ]
  },
  {
   "cell_type": "code",
   "execution_count": 198,
   "metadata": {},
   "outputs": [],
   "source": [
    "import numpy as np\n",
    "gunbo = np.array([1, 2,3,4,5,6,7,8,9,10])\n",
    "seocho_gunbo = np.repeat(gunbo, [28199, 19624,19623,24993,24833,26820,29518,40967,65014,166641], axis=0)"
   ]
  },
  {
   "cell_type": "code",
   "execution_count": 110,
   "metadata": {},
   "outputs": [
    {
     "data": {
      "text/plain": [
       "<AxesSubplot:xlabel='보험료분위별', ylabel='2019 년'>"
      ]
     },
     "execution_count": 110,
     "metadata": {},
     "output_type": "execute_result"
    },
    {
     "data": {
      "image/png": "[encoded data removed]",
      "text/plain": [
       "<Figure size 432x288 with 1 Axes>"
      ]
     },
     "metadata": {
      "needs_background": "light"
     },
     "output_type": "display_data"
    }
   ],
   "source": [
    "import seaborn as sns\n",
    "sns.barplot(data=df_seocho_gunbo, x=\"보험료분위별\", y=\"2019 년\")"
   ]
  },
  {
   "cell_type": "code",
   "execution_count": 161,
   "metadata": {},
   "outputs": [
    {
     "data": {
      "text/html": [
       "<div>\n",
       "<style scoped>\n",
       "    .dataframe tbody tr th:only-of-type {\n",
       "        vertical-align: middle;\n",
       "    }\n",
       "\n",
       "    .dataframe tbody tr th {\n",
       "        vertical-align: top;\n",
       "    }\n",
       "\n",
       "    .dataframe thead th {\n",
       "        text-align: right;\n",
       "    }\n",
       "</style>\n",
       "<table border=\"1\" class=\"dataframe\">\n",
       "  <thead>\n",
       "    <tr style=\"text-align: right;\">\n",
       "      <th></th>\n",
       "      <th>보험료분위별</th>\n",
       "      <th>2019 년</th>\n",
       "    </tr>\n",
       "  </thead>\n",
       "  <tbody>\n",
       "    <tr>\n",
       "      <th>3647</th>\n",
       "      <td>1분위</td>\n",
       "      <td>34593</td>\n",
       "    </tr>\n",
       "    <tr>\n",
       "      <th>3662</th>\n",
       "      <td>2분위</td>\n",
       "      <td>25407</td>\n",
       "    </tr>\n",
       "    <tr>\n",
       "      <th>3677</th>\n",
       "      <td>3분위</td>\n",
       "      <td>26126</td>\n",
       "    </tr>\n",
       "    <tr>\n",
       "      <th>3692</th>\n",
       "      <td>4분위</td>\n",
       "      <td>31814</td>\n",
       "    </tr>\n",
       "    <tr>\n",
       "      <th>3707</th>\n",
       "      <td>5분위</td>\n",
       "      <td>38244</td>\n",
       "    </tr>\n",
       "    <tr>\n",
       "      <th>3722</th>\n",
       "      <td>6분위</td>\n",
       "      <td>36273</td>\n",
       "    </tr>\n",
       "    <tr>\n",
       "      <th>3737</th>\n",
       "      <td>7분위</td>\n",
       "      <td>36816</td>\n",
       "    </tr>\n",
       "    <tr>\n",
       "      <th>3752</th>\n",
       "      <td>8분위</td>\n",
       "      <td>48608</td>\n",
       "    </tr>\n",
       "    <tr>\n",
       "      <th>3767</th>\n",
       "      <td>9분위</td>\n",
       "      <td>77916</td>\n",
       "    </tr>\n",
       "    <tr>\n",
       "      <th>3782</th>\n",
       "      <td>10분위</td>\n",
       "      <td>212970</td>\n",
       "    </tr>\n",
       "  </tbody>\n",
       "</table>\n",
       "</div>"
      ],
      "text/plain": [
       "     보험료분위별  2019 년\n",
       "3647    1분위   34593\n",
       "3662    2분위   25407\n",
       "3677    3분위   26126\n",
       "3692    4분위   31814\n",
       "3707    5분위   38244\n",
       "3722    6분위   36273\n",
       "3737    7분위   36816\n",
       "3752    8분위   48608\n",
       "3767    9분위   77916\n",
       "3782   10분위  212970"
      ]
     },
     "execution_count": 161,
     "metadata": {},
     "output_type": "execute_result"
    }
   ],
   "source": [
    "df_gangnam_gunbo = df_seoul_gunbo[df_seoul_gunbo[\"시군구별\"].str.contains('강남구')]\n",
    "df_gangnam_gunbo = df_gangnam_gunbo[df_gangnam_gunbo[\"가입자구분별\"].str.contains('계')]\n",
    "df_gangnam_gunbo = df_gangnam_gunbo[~df_gangnam_gunbo[\"보험료분위별\"].str.contains('계')]\n",
    "df_gangnam_gunbo = df_gangnam_gunbo[df_gangnam_gunbo[\"항목\"].str.contains('적용인구')]\n",
    "\n",
    "df_gangnam_gunbo['2019 년'] = pd.to_numeric(df_gangnam_gunbo['2019 년'])\n",
    "df_gangnam_gunbo = df_gangnam_gunbo[['보험료분위별', '2019 년']]\n",
    "\n",
    "df_gangnam_gunbo"
   ]
  },
  {
   "cell_type": "code",
   "execution_count": 199,
   "metadata": {},
   "outputs": [],
   "source": [
    "import numpy as np\n",
    "gunbo = np.array([1, 2,3,4,5,6,7,8,9,10])\n",
    "gangnam_gunbo = np.repeat(gunbo, [34593, 25407,26126,31814,38244,36273,36816,48608,77916,212970], axis=0)"
   ]
  },
  {
   "cell_type": "code",
   "execution_count": 112,
   "metadata": {},
   "outputs": [
    {
     "data": {
      "text/plain": [
       "<AxesSubplot:xlabel='보험료분위별', ylabel='2019 년'>"
      ]
     },
     "execution_count": 112,
     "metadata": {},
     "output_type": "execute_result"
    },
    {
     "data": {
      "image/png": "[encoded data removed]",
      "text/plain": [
       "<Figure size 432x288 with 1 Axes>"
      ]
     },
     "metadata": {
      "needs_background": "light"
     },
     "output_type": "display_data"
    }
   ],
   "source": [
    "import seaborn as sns\n",
    "sns.barplot(data=df_gangnam_gunbo, x=\"보험료분위별\", y=\"2019 년\")"
   ]
  },
  {
   "cell_type": "code",
   "execution_count": 162,
   "metadata": {},
   "outputs": [
    {
     "data": {
      "text/html": [
       "<div>\n",
       "<style scoped>\n",
       "    .dataframe tbody tr th:only-of-type {\n",
       "        vertical-align: middle;\n",
       "    }\n",
       "\n",
       "    .dataframe tbody tr th {\n",
       "        vertical-align: top;\n",
       "    }\n",
       "\n",
       "    .dataframe thead th {\n",
       "        text-align: right;\n",
       "    }\n",
       "</style>\n",
       "<table border=\"1\" class=\"dataframe\">\n",
       "  <thead>\n",
       "    <tr style=\"text-align: right;\">\n",
       "      <th></th>\n",
       "      <th>보험료분위별</th>\n",
       "      <th>2019 년</th>\n",
       "    </tr>\n",
       "  </thead>\n",
       "  <tbody>\n",
       "    <tr>\n",
       "      <th>3812</th>\n",
       "      <td>1분위</td>\n",
       "      <td>45783</td>\n",
       "    </tr>\n",
       "    <tr>\n",
       "      <th>3827</th>\n",
       "      <td>2분위</td>\n",
       "      <td>37633</td>\n",
       "    </tr>\n",
       "    <tr>\n",
       "      <th>3842</th>\n",
       "      <td>3분위</td>\n",
       "      <td>40547</td>\n",
       "    </tr>\n",
       "    <tr>\n",
       "      <th>3857</th>\n",
       "      <td>4분위</td>\n",
       "      <td>48124</td>\n",
       "    </tr>\n",
       "    <tr>\n",
       "      <th>3872</th>\n",
       "      <td>5분위</td>\n",
       "      <td>47368</td>\n",
       "    </tr>\n",
       "    <tr>\n",
       "      <th>3887</th>\n",
       "      <td>6분위</td>\n",
       "      <td>50770</td>\n",
       "    </tr>\n",
       "    <tr>\n",
       "      <th>3902</th>\n",
       "      <td>7분위</td>\n",
       "      <td>55929</td>\n",
       "    </tr>\n",
       "    <tr>\n",
       "      <th>3917</th>\n",
       "      <td>8분위</td>\n",
       "      <td>70848</td>\n",
       "    </tr>\n",
       "    <tr>\n",
       "      <th>3932</th>\n",
       "      <td>9분위</td>\n",
       "      <td>99350</td>\n",
       "    </tr>\n",
       "    <tr>\n",
       "      <th>3947</th>\n",
       "      <td>10분위</td>\n",
       "      <td>183329</td>\n",
       "    </tr>\n",
       "  </tbody>\n",
       "</table>\n",
       "</div>"
      ],
      "text/plain": [
       "     보험료분위별  2019 년\n",
       "3812    1분위   45783\n",
       "3827    2분위   37633\n",
       "3842    3분위   40547\n",
       "3857    4분위   48124\n",
       "3872    5분위   47368\n",
       "3887    6분위   50770\n",
       "3902    7분위   55929\n",
       "3917    8분위   70848\n",
       "3932    9분위   99350\n",
       "3947   10분위  183329"
      ]
     },
     "execution_count": 162,
     "metadata": {},
     "output_type": "execute_result"
    }
   ],
   "source": [
    "df_songpa_gunbo = df_seoul_gunbo[df_seoul_gunbo[\"시군구별\"].str.contains('송파구')]\n",
    "df_songpa_gunbo = df_songpa_gunbo[df_songpa_gunbo[\"가입자구분별\"].str.contains('계')]\n",
    "df_songpa_gunbo = df_songpa_gunbo[~df_songpa_gunbo[\"보험료분위별\"].str.contains('계')]\n",
    "df_songpa_gunbo = df_songpa_gunbo[df_songpa_gunbo[\"항목\"].str.contains('적용인구')]\n",
    "\n",
    "df_songpa_gunbo['2019 년'] = pd.to_numeric(df_songpa_gunbo['2019 년'])\n",
    "df_songpa_gunbo = df_songpa_gunbo[['보험료분위별', '2019 년']]\n",
    "\n",
    "df_songpa_gunbo"
   ]
  },
  {
   "cell_type": "code",
   "execution_count": 200,
   "metadata": {},
   "outputs": [],
   "source": [
    "import numpy as np\n",
    "gunbo = np.array([1, 2,3,4,5,6,7,8,9,10])\n",
    "songpa_gunbo = np.repeat(gunbo, [45783, 37633,40547,48124,47368,50770,55929,70848,99350,183329], axis=0)"
   ]
  },
  {
   "cell_type": "code",
   "execution_count": 114,
   "metadata": {},
   "outputs": [
    {
     "data": {
      "text/plain": [
       "<AxesSubplot:xlabel='보험료분위별', ylabel='2019 년'>"
      ]
     },
     "execution_count": 114,
     "metadata": {},
     "output_type": "execute_result"
    },
    {
     "data": {
      "image/png": "[encoded data removed]",
      "text/plain": [
       "<Figure size 432x288 with 1 Axes>"
      ]
     },
     "metadata": {
      "needs_background": "light"
     },
     "output_type": "display_data"
    }
   ],
   "source": [
    "import seaborn as sns\n",
    "sns.barplot(data=df_songpa_gunbo, x=\"보험료분위별\", y=\"2019 년\")"
   ]
  },
  {
   "cell_type": "code",
   "execution_count": 163,
   "metadata": {},
   "outputs": [
    {
     "data": {
      "text/html": [
       "<div>\n",
       "<style scoped>\n",
       "    .dataframe tbody tr th:only-of-type {\n",
       "        vertical-align: middle;\n",
       "    }\n",
       "\n",
       "    .dataframe tbody tr th {\n",
       "        vertical-align: top;\n",
       "    }\n",
       "\n",
       "    .dataframe thead th {\n",
       "        text-align: right;\n",
       "    }\n",
       "</style>\n",
       "<table border=\"1\" class=\"dataframe\">\n",
       "  <thead>\n",
       "    <tr style=\"text-align: right;\">\n",
       "      <th></th>\n",
       "      <th>보험료분위별</th>\n",
       "      <th>2019 년</th>\n",
       "    </tr>\n",
       "  </thead>\n",
       "  <tbody>\n",
       "    <tr>\n",
       "      <th>3977</th>\n",
       "      <td>1분위</td>\n",
       "      <td>31734</td>\n",
       "    </tr>\n",
       "    <tr>\n",
       "      <th>3992</th>\n",
       "      <td>2분위</td>\n",
       "      <td>28806</td>\n",
       "    </tr>\n",
       "    <tr>\n",
       "      <th>4007</th>\n",
       "      <td>3분위</td>\n",
       "      <td>29683</td>\n",
       "    </tr>\n",
       "    <tr>\n",
       "      <th>4022</th>\n",
       "      <td>4분위</td>\n",
       "      <td>34591</td>\n",
       "    </tr>\n",
       "    <tr>\n",
       "      <th>4037</th>\n",
       "      <td>5분위</td>\n",
       "      <td>37546</td>\n",
       "    </tr>\n",
       "    <tr>\n",
       "      <th>4052</th>\n",
       "      <td>6분위</td>\n",
       "      <td>35255</td>\n",
       "    </tr>\n",
       "    <tr>\n",
       "      <th>4067</th>\n",
       "      <td>7분위</td>\n",
       "      <td>37949</td>\n",
       "    </tr>\n",
       "    <tr>\n",
       "      <th>4082</th>\n",
       "      <td>8분위</td>\n",
       "      <td>48958</td>\n",
       "    </tr>\n",
       "    <tr>\n",
       "      <th>4097</th>\n",
       "      <td>9분위</td>\n",
       "      <td>62302</td>\n",
       "    </tr>\n",
       "    <tr>\n",
       "      <th>4112</th>\n",
       "      <td>10분위</td>\n",
       "      <td>79014</td>\n",
       "    </tr>\n",
       "  </tbody>\n",
       "</table>\n",
       "</div>"
      ],
      "text/plain": [
       "     보험료분위별  2019 년\n",
       "3977    1분위   31734\n",
       "3992    2분위   28806\n",
       "4007    3분위   29683\n",
       "4022    4분위   34591\n",
       "4037    5분위   37546\n",
       "4052    6분위   35255\n",
       "4067    7분위   37949\n",
       "4082    8분위   48958\n",
       "4097    9분위   62302\n",
       "4112   10분위   79014"
      ]
     },
     "execution_count": 163,
     "metadata": {},
     "output_type": "execute_result"
    }
   ],
   "source": [
    "df_gangdong_gunbo = df_seoul_gunbo[df_seoul_gunbo[\"시군구별\"].str.contains('강동구')]\n",
    "df_gangdong_gunbo = df_gangdong_gunbo[df_gangdong_gunbo[\"가입자구분별\"].str.contains('계')]\n",
    "df_gangdong_gunbo = df_gangdong_gunbo[~df_gangdong_gunbo[\"보험료분위별\"].str.contains('계')]\n",
    "df_gangdong_gunbo = df_gangdong_gunbo[df_gangdong_gunbo[\"항목\"].str.contains('적용인구')]\n",
    "\n",
    "df_gangdong_gunbo['2019 년'] = pd.to_numeric(df_gangdong_gunbo['2019 년'])\n",
    "df_gangdong_gunbo = df_gangdong_gunbo[['보험료분위별', '2019 년']]\n",
    "\n",
    "df_gangdong_gunbo"
   ]
  },
  {
   "cell_type": "code",
   "execution_count": 201,
   "metadata": {},
   "outputs": [],
   "source": [
    "import numpy as np\n",
    "gunbo = np.array([1, 2,3,4,5,6,7,8,9,10])\n",
    "gangdong_gunbo = np.repeat(gunbo, [31734, 28806,29683,34591,37546,35255,37949,48958,62302,79014], axis=0)"
   ]
  },
  {
   "cell_type": "code",
   "execution_count": 116,
   "metadata": {},
   "outputs": [
    {
     "data": {
      "text/plain": [
       "<AxesSubplot:xlabel='보험료분위별', ylabel='2019 년'>"
      ]
     },
     "execution_count": 116,
     "metadata": {},
     "output_type": "execute_result"
    },
    {
     "data": {
      "image/png": "[encoded data removed]",
      "text/plain": [
       "<Figure size 432x288 with 1 Axes>"
      ]
     },
     "metadata": {
      "needs_background": "light"
     },
     "output_type": "display_data"
    }
   ],
   "source": [
    "import seaborn as sns\n",
    "sns.barplot(data=df_gangdong_gunbo, x=\"보험료분위별\", y=\"2019 년\")"
   ]
  },
  {
   "cell_type": "code",
   "execution_count": 164,
   "metadata": {},
   "outputs": [
    {
     "data": {
      "text/html": [
       "<div>\n",
       "<style scoped>\n",
       "    .dataframe tbody tr th:only-of-type {\n",
       "        vertical-align: middle;\n",
       "    }\n",
       "\n",
       "    .dataframe tbody tr th {\n",
       "        vertical-align: top;\n",
       "    }\n",
       "\n",
       "    .dataframe thead th {\n",
       "        text-align: right;\n",
       "    }\n",
       "</style>\n",
       "<table border=\"1\" class=\"dataframe\">\n",
       "  <thead>\n",
       "    <tr style=\"text-align: right;\">\n",
       "      <th></th>\n",
       "      <th>보험료분위별</th>\n",
       "      <th>2019 년</th>\n",
       "    </tr>\n",
       "  </thead>\n",
       "  <tbody>\n",
       "    <tr>\n",
       "      <th>7607</th>\n",
       "      <td>1분위</td>\n",
       "      <td>56566</td>\n",
       "    </tr>\n",
       "    <tr>\n",
       "      <th>7622</th>\n",
       "      <td>2분위</td>\n",
       "      <td>64439</td>\n",
       "    </tr>\n",
       "    <tr>\n",
       "      <th>7637</th>\n",
       "      <td>3분위</td>\n",
       "      <td>68273</td>\n",
       "    </tr>\n",
       "    <tr>\n",
       "      <th>7652</th>\n",
       "      <td>4분위</td>\n",
       "      <td>77466</td>\n",
       "    </tr>\n",
       "    <tr>\n",
       "      <th>7667</th>\n",
       "      <td>5분위</td>\n",
       "      <td>80942</td>\n",
       "    </tr>\n",
       "    <tr>\n",
       "      <th>7682</th>\n",
       "      <td>6분위</td>\n",
       "      <td>85239</td>\n",
       "    </tr>\n",
       "    <tr>\n",
       "      <th>7697</th>\n",
       "      <td>7분위</td>\n",
       "      <td>96827</td>\n",
       "    </tr>\n",
       "    <tr>\n",
       "      <th>7712</th>\n",
       "      <td>8분위</td>\n",
       "      <td>102559</td>\n",
       "    </tr>\n",
       "    <tr>\n",
       "      <th>7727</th>\n",
       "      <td>9분위</td>\n",
       "      <td>102287</td>\n",
       "    </tr>\n",
       "    <tr>\n",
       "      <th>7742</th>\n",
       "      <td>10분위</td>\n",
       "      <td>94693</td>\n",
       "    </tr>\n",
       "  </tbody>\n",
       "</table>\n",
       "</div>"
      ],
      "text/plain": [
       "     보험료분위별  2019 년\n",
       "7607    1분위   56566\n",
       "7622    2분위   64439\n",
       "7637    3분위   68273\n",
       "7652    4분위   77466\n",
       "7667    5분위   80942\n",
       "7682    6분위   85239\n",
       "7697    7분위   96827\n",
       "7712    8분위  102559\n",
       "7727    9분위  102287\n",
       "7742   10분위   94693"
      ]
     },
     "execution_count": 164,
     "metadata": {},
     "output_type": "execute_result"
    }
   ],
   "source": [
    "df_bucheon_gunbo = Region_gunbo[Region_gunbo[\"시군구별\"].str.contains('부천')]\n",
    "df_bucheon_gunbo = df_bucheon_gunbo[df_bucheon_gunbo[\"가입자구분별\"].str.contains('계')]\n",
    "df_bucheon_gunbo = df_bucheon_gunbo[~df_bucheon_gunbo[\"보험료분위별\"].str.contains('계')]\n",
    "df_bucheon_gunbo = df_bucheon_gunbo[df_bucheon_gunbo[\"항목\"].str.contains('적용인구')]\n",
    "\n",
    "df_bucheon_gunbo['2019 년'] = pd.to_numeric(df_bucheon_gunbo['2019 년'])\n",
    "df_bucheon_gunbo = df_bucheon_gunbo[['보험료분위별', '2019 년']]\n",
    "\n",
    "df_bucheon_gunbo"
   ]
  },
  {
   "cell_type": "code",
   "execution_count": 202,
   "metadata": {},
   "outputs": [],
   "source": [
    "import numpy as np\n",
    "gunbo = np.array([1, 2,3,4,5,6,7,8,9,10])\n",
    "bucheon_gunbo = np.repeat(gunbo, [56566, 64439,68273,77466,80942,85239,96827,102559,102287,94693], axis=0)"
   ]
  },
  {
   "cell_type": "code",
   "execution_count": 119,
   "metadata": {},
   "outputs": [
    {
     "data": {
      "text/plain": [
       "<AxesSubplot:xlabel='보험료분위별', ylabel='2019 년'>"
      ]
     },
     "execution_count": 119,
     "metadata": {},
     "output_type": "execute_result"
    },
    {
     "data": {
      "image/png": "[encoded data removed]",
      "text/plain": [
       "<Figure size 432x288 with 1 Axes>"
      ]
     },
     "metadata": {
      "needs_background": "light"
     },
     "output_type": "display_data"
    }
   ],
   "source": [
    "import seaborn as sns\n",
    "sns.barplot(data=df_bucheon_gunbo, x=\"보험료분위별\", y=\"2019 년\")"
   ]
  },
  {
   "cell_type": "markdown",
   "metadata": {},
   "source": [
    "### 서울시 도봉구, 은평구의 따릉이"
   ]
  },
  {
   "cell_type": "code",
   "execution_count": 203,
   "metadata": {},
   "outputs": [
    {
     "name": "stdout",
     "output_type": "stream",
     "text": [
      "KstestResult(statistic=0.0, pvalue=1.0)\n"
     ]
    }
   ],
   "source": [
    "import scipy\n",
    "import numpy as np\n",
    "from scipy.stats import ks_2samp\n",
    "print(ks_2samp(bucheon_gunbo,bucheon_gunbo))"
   ]
  },
  {
   "cell_type": "code",
   "execution_count": 204,
   "metadata": {},
   "outputs": [
    {
     "name": "stdout",
     "output_type": "stream",
     "text": [
      "KstestResult(statistic=0.11351650494948318, pvalue=0.0)\n"
     ]
    }
   ],
   "source": [
    "print(ks_2samp(jongro_gunbo,bucheon_gunbo))"
   ]
  },
  {
   "cell_type": "code",
   "execution_count": 205,
   "metadata": {},
   "outputs": [
    {
     "name": "stdout",
     "output_type": "stream",
     "text": [
      "KstestResult(statistic=0.07616482652407786, pvalue=0.0)\n"
     ]
    }
   ],
   "source": [
    "print(ks_2samp(joong_gunbo,bucheon_gunbo))"
   ]
  },
  {
   "cell_type": "code",
   "execution_count": 206,
   "metadata": {},
   "outputs": [
    {
     "name": "stdout",
     "output_type": "stream",
     "text": [
      "KstestResult(statistic=0.14298889258598046, pvalue=0.0)\n"
     ]
    }
   ],
   "source": [
    "print(ks_2samp(yongsan_gunbo,bucheon_gunbo))"
   ]
  },
  {
   "cell_type": "code",
   "execution_count": 207,
   "metadata": {},
   "outputs": [
    {
     "name": "stdout",
     "output_type": "stream",
     "text": [
      "KstestResult(statistic=0.127770464185617, pvalue=0.0)\n"
     ]
    }
   ],
   "source": [
    "print(ks_2samp(sungdong_gunbo,bucheon_gunbo))"
   ]
  },
  {
   "cell_type": "code",
   "execution_count": 208,
   "metadata": {},
   "outputs": [
    {
     "name": "stdout",
     "output_type": "stream",
     "text": [
      "KstestResult(statistic=0.058276614933309046, pvalue=0.0)\n"
     ]
    }
   ],
   "source": [
    "print(ks_2samp(gwangjin_gunbo,bucheon_gunbo))"
   ]
  },
  {
   "cell_type": "code",
   "execution_count": 209,
   "metadata": {},
   "outputs": [
    {
     "name": "stdout",
     "output_type": "stream",
     "text": [
      "KstestResult(statistic=0.045523279091909785, pvalue=0.0)\n"
     ]
    }
   ],
   "source": [
    "print(ks_2samp(dongdaemoon_gunbo,bucheon_gunbo))"
   ]
  },
  {
   "cell_type": "code",
   "execution_count": 210,
   "metadata": {},
   "outputs": [
    {
     "name": "stdout",
     "output_type": "stream",
     "text": [
      "KstestResult(statistic=0.05235996558826789, pvalue=0.0)\n"
     ]
    }
   ],
   "source": [
    "print(ks_2samp(joongrang_gunbo,bucheon_gunbo))"
   ]
  },
  {
   "cell_type": "code",
   "execution_count": 211,
   "metadata": {},
   "outputs": [
    {
     "name": "stdout",
     "output_type": "stream",
     "text": [
      "KstestResult(statistic=0.08616721834697294, pvalue=0.0)\n"
     ]
    }
   ],
   "source": [
    "print(ks_2samp(seongbook_gunbo,bucheon_gunbo))"
   ]
  },
  {
   "cell_type": "code",
   "execution_count": 212,
   "metadata": {},
   "outputs": [
    {
     "name": "stdout",
     "output_type": "stream",
     "text": [
      "KstestResult(statistic=0.0778418819249802, pvalue=0.0)\n"
     ]
    }
   ],
   "source": [
    "print(ks_2samp(gangbook_gunbo,bucheon_gunbo))"
   ]
  },
  {
   "cell_type": "code",
   "execution_count": 213,
   "metadata": {},
   "outputs": [
    {
     "name": "stdout",
     "output_type": "stream",
     "text": [
      "KstestResult(statistic=0.036273357769178866, pvalue=3.5138712043114207e-258)\n"
     ]
    }
   ],
   "source": [
    "print(ks_2samp(dobong_gunbo,bucheon_gunbo))"
   ]
  },
  {
   "cell_type": "code",
   "execution_count": 214,
   "metadata": {},
   "outputs": [
    {
     "name": "stdout",
     "output_type": "stream",
     "text": [
      "KstestResult(statistic=0.09291001550130518, pvalue=0.0)\n"
     ]
    }
   ],
   "source": [
    "print(ks_2samp(noone_gunbo,bucheon_gunbo))"
   ]
  },
  {
   "cell_type": "code",
   "execution_count": 215,
   "metadata": {},
   "outputs": [
    {
     "name": "stdout",
     "output_type": "stream",
     "text": [
      "KstestResult(statistic=0.02435038836961212, pvalue=5.906485716458859e-151)\n"
     ]
    }
   ],
   "source": [
    "print(ks_2samp(eunpyeong_gunbo,bucheon_gunbo))"
   ]
  },
  {
   "cell_type": "code",
   "execution_count": 216,
   "metadata": {},
   "outputs": [
    {
     "name": "stdout",
     "output_type": "stream",
     "text": [
      "KstestResult(statistic=0.09571045983750348, pvalue=0.0)\n"
     ]
    }
   ],
   "source": [
    "print(ks_2samp(seodaemoon_gunbo,bucheon_gunbo))"
   ]
  },
  {
   "cell_type": "code",
   "execution_count": 217,
   "metadata": {},
   "outputs": [
    {
     "name": "stdout",
     "output_type": "stream",
     "text": [
      "KstestResult(statistic=0.14158430161704516, pvalue=0.0)\n"
     ]
    }
   ],
   "source": [
    "print(ks_2samp(mapo_gunbo,bucheon_gunbo))"
   ]
  },
  {
   "cell_type": "code",
   "execution_count": 218,
   "metadata": {},
   "outputs": [
    {
     "name": "stdout",
     "output_type": "stream",
     "text": [
      "KstestResult(statistic=0.1523726884024953, pvalue=0.0)\n"
     ]
    }
   ],
   "source": [
    "print(ks_2samp(yangcheon_gunbo,bucheon_gunbo))"
   ]
  },
  {
   "cell_type": "code",
   "execution_count": 219,
   "metadata": {},
   "outputs": [
    {
     "name": "stdout",
     "output_type": "stream",
     "text": [
      "KstestResult(statistic=0.05433372754657528, pvalue=0.0)\n"
     ]
    }
   ],
   "source": [
    "print(ks_2samp(gangseo_gunbo,bucheon_gunbo))"
   ]
  },
  {
   "cell_type": "code",
   "execution_count": 220,
   "metadata": {},
   "outputs": [
    {
     "name": "stdout",
     "output_type": "stream",
     "text": [
      "KstestResult(statistic=0.0435091104444888, pvalue=0.0)\n"
     ]
    }
   ],
   "source": [
    "print(ks_2samp(guro_gunbo,bucheon_gunbo))"
   ]
  },
  {
   "cell_type": "code",
   "execution_count": 221,
   "metadata": {},
   "outputs": [
    {
     "name": "stdout",
     "output_type": "stream",
     "text": [
      "KstestResult(statistic=0.05794139439435375, pvalue=0.0)\n"
     ]
    }
   ],
   "source": [
    "print(ks_2samp(gemcheon_gunbo,bucheon_gunbo))"
   ]
  },
  {
   "cell_type": "code",
   "execution_count": 222,
   "metadata": {},
   "outputs": [
    {
     "name": "stdout",
     "output_type": "stream",
     "text": [
      "KstestResult(statistic=0.10333198616432787, pvalue=0.0)\n"
     ]
    }
   ],
   "source": [
    "print(ks_2samp(youngdeung_gunbo,bucheon_gunbo))"
   ]
  },
  {
   "cell_type": "code",
   "execution_count": 223,
   "metadata": {},
   "outputs": [
    {
     "name": "stdout",
     "output_type": "stream",
     "text": [
      "KstestResult(statistic=0.10147311321915808, pvalue=0.0)\n"
     ]
    }
   ],
   "source": [
    "print(ks_2samp(dongjak_gunbo,bucheon_gunbo))"
   ]
  },
  {
   "cell_type": "code",
   "execution_count": 224,
   "metadata": {},
   "outputs": [
    {
     "name": "stdout",
     "output_type": "stream",
     "text": [
      "KstestResult(statistic=0.04206098172811146, pvalue=0.0)\n"
     ]
    }
   ],
   "source": [
    "print(ks_2samp(gwanak_gunbo,bucheon_gunbo))"
   ]
  },
  {
   "cell_type": "code",
   "execution_count": 225,
   "metadata": {},
   "outputs": [
    {
     "name": "stdout",
     "output_type": "stream",
     "text": [
      "KstestResult(statistic=0.2816075840679362, pvalue=0.0)\n"
     ]
    }
   ],
   "source": [
    "print(ks_2samp(seocho_gunbo,bucheon_gunbo))"
   ]
  },
  {
   "cell_type": "code",
   "execution_count": 226,
   "metadata": {},
   "outputs": [
    {
     "name": "stdout",
     "output_type": "stream",
     "text": [
      "KstestResult(statistic=0.27390442350924243, pvalue=0.0)\n"
     ]
    }
   ],
   "source": [
    "print(ks_2samp(gangnam_gunbo,bucheon_gunbo))"
   ]
  },
  {
   "cell_type": "code",
   "execution_count": 227,
   "metadata": {},
   "outputs": [
    {
     "name": "stdout",
     "output_type": "stream",
     "text": [
      "KstestResult(statistic=0.17837131576650245, pvalue=0.0)\n"
     ]
    }
   ],
   "source": [
    "print(ks_2samp(songpa_gunbo,bucheon_gunbo))"
   ]
  },
  {
   "cell_type": "code",
   "execution_count": 228,
   "metadata": {},
   "outputs": [
    {
     "name": "stdout",
     "output_type": "stream",
     "text": [
      "KstestResult(statistic=0.09432569569023663, pvalue=0.0)\n"
     ]
    }
   ],
   "source": [
    "print(ks_2samp(gangdong_gunbo,bucheon_gunbo))"
   ]
  }
 ],
 "metadata": {
  "kernelspec": {
   "display_name": "pydatavenv",
   "language": "python",
   "name": "pydatavenv"
  },
  "language_info": {
   "codemirror_mode": {
    "name": "ipython",
    "version": 3
   },
   "file_extension": ".py",
   "mimetype": "text/x-python",
   "name": "python",
   "nbconvert_exporter": "python",
   "pygments_lexer": "ipython3",
   "version": "3.8.8"
  }
 },
 "nbformat": 4,
 "nbformat_minor": 4
}
