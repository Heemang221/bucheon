{
 "cells": [
  {
   "cell_type": "code",
   "execution_count": null,
   "metadata": {},
   "outputs": [],
   "source": [
    "'''\n",
    "This program reads two csv files and merges them based on a common key column.\n",
    "'''\n",
    "# import the pandas library\n",
    "# you can install using the following command: pip install pandas\n",
    "import pandas as pd\n",
    "\n",
    "df1 = pd.read_csv('CSV1.csv')\n",
    "df2 = pd.read_csv('CSV2.csv')\n",
    "# Merge the two dataframes, using _ID column as key\n",
    "df3 = pd.merge(df1, df2, on = 'ID_')\n",
    "df3.set_index('ID_', inplace = True)\n",
    "# Write it to a new CSV file\n",
    "df3.to_csv('CSV3.csv')"
   ]
  }
 ],
 "metadata": {
  "kernelspec": {
   "display_name": "pydatavenv",
   "language": "python",
   "name": "pydatavenv"
  },
  "language_info": {
   "codemirror_mode": {
    "name": "ipython",
    "version": 3
   },
   "file_extension": ".py",
   "mimetype": "text/x-python",
   "name": "python",
   "nbconvert_exporter": "python",
   "pygments_lexer": "ipython3",
   "version": "3.8.8"
  }
 },
 "nbformat": 4,
 "nbformat_minor": 4
}
